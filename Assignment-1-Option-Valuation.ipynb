{
 "cells": [
  {
   "cell_type": "code",
   "execution_count": 1,
   "metadata": {
    "collapsed": true
   },
   "outputs": [],
   "source": [
    "import numpy as np\n",
    "import pandas as pd\n",
    "from numba import njit\n",
    "\n",
    "from math import log, sqrt, exp, erf, ceil\n",
    "\n",
    "from matplotlib import pyplot as plt\n",
    "from tqdm.notebook import tqdm\n",
    "from time import perf_counter\n",
    "\n",
    "\"\"\" API requirements \"\"\"\n",
    "import pandas as pd\n",
    "import yfinance as yf\n",
    "import datetime\n",
    "\n",
    "\"\"\" Plt font size \"\"\"\n",
    "plt.rcParams['font.size'] = '15'\n",
    "plt.rcParams[\"figure.figsize\"] = (20, 7)\n",
    "# plt.style.use('bmh')\n",
    "\n",
    "\"\"\" Force Numpy and Pandas to print floating format with 5 decimal places\"\"\"\n",
    "np.set_printoptions(suppress=True, precision=5)\n",
    "pd.set_option(\"display.precision\", 5)"
   ]
  },
  {
   "cell_type": "markdown",
   "metadata": {
    "collapsed": false
   },
   "source": [
    "# Question 1\n",
    "\n",
    "------------------------------------------------------------------------------------------------------------------------\n",
    "## Calculate T\n",
    "Count how many trading days until 6 months from now and devide by 252"
   ]
  },
  {
   "cell_type": "code",
   "execution_count": 2,
   "metadata": {
    "collapsed": false,
    "pycharm": {
     "name": "#%%\n"
    }
   },
   "outputs": [
    {
     "name": "stdout",
     "output_type": "stream",
     "text": [
      "Expiration Date = 2023-09-08\n",
      "Trading Days until expiration = 127 / 252\n",
      "T = 0.503968253968254\n"
     ]
    }
   ],
   "source": [
    "import pandas_market_calendars as mcal\n",
    "import datetime as dt\n",
    "# Create a calendar\n",
    "nyse = mcal.get_calendar('NYSE')\n",
    "\n",
    "# Show available calendars\n",
    "# print(mcal.get_calendar_names())\n",
    "NOW     = dt.datetime.now() # OR \n",
    "NOW     = dt.datetime(year=2023, month=3, day=9)\n",
    "_END    = NOW+dt.timedelta(days=ceil(365/2))\n",
    "calendar        = nyse.schedule(start_date=NOW, end_date=_END)\n",
    "expiration_date = pd.to_datetime(calendar.index.values[-1])\n",
    "\n",
    "TRAIDING_DAYS = calendar.shape[0]\n",
    "\n",
    "print(f\"Expiration Date = {pd.to_datetime(expiration_date).strftime('%Y-%m-%d')}\")\n",
    "print(f\"Trading Days until expiration = {TRAIDING_DAYS} / 252\") ; T = TRAIDING_DAYS / 252\n",
    "print(f\"T = {T}\")\n",
    "# early"
   ]
  },
  {
   "cell_type": "markdown",
   "metadata": {
    "collapsed": false
   },
   "source": [
    "## Calculate R"
   ]
  },
  {
   "cell_type": "code",
   "execution_count": 3,
   "metadata": {
    "collapsed": false,
    "pycharm": {
     "name": "#%%\n"
    }
   },
   "outputs": [
    {
     "name": "stdout",
     "output_type": "stream",
     "text": [
      "Annualized return = 0.05148\n",
      "Cont. Comp return = 0.05020\n"
     ]
    }
   ],
   "source": [
    "\"\"\" Treasury Bill : TMUBMUSD06M \n",
    "site: https://www.wsj.com/market-data/quotes/bond/BX/TMUBMUSD06M\n",
    "value: 5.148% \"\"\"\n",
    "\n",
    "r = 0.05148\n",
    "R = np.log(1 + r)\n",
    "\n",
    "print(f\"Annualized return = {r}\")\n",
    "print(f'Cont. Comp return = {R:.5f}')"
   ]
  },
  {
   "cell_type": "markdown",
   "metadata": {},
   "source": [
    "## Calculate S0\n",
    "### Get Historical Stock Data from Yahoo Finance"
   ]
  },
  {
   "cell_type": "code",
   "execution_count": 4,
   "metadata": {
    "pycharm": {
     "name": "#%%\n"
    }
   },
   "outputs": [],
   "source": [
    "aapl = yf.Ticker(\"AAPL\")"
   ]
  },
  {
   "cell_type": "code",
   "execution_count": 5,
   "metadata": {
    "pycharm": {
     "name": "#%%\n"
    }
   },
   "outputs": [
    {
     "data": {
      "text/html": [
       "<div>\n",
       "<style scoped>\n",
       "    .dataframe tbody tr th:only-of-type {\n",
       "        vertical-align: middle;\n",
       "    }\n",
       "\n",
       "    .dataframe tbody tr th {\n",
       "        vertical-align: top;\n",
       "    }\n",
       "\n",
       "    .dataframe thead th {\n",
       "        text-align: right;\n",
       "    }\n",
       "</style>\n",
       "<table border=\"1\" class=\"dataframe\">\n",
       "  <thead>\n",
       "    <tr style=\"text-align: right;\">\n",
       "      <th></th>\n",
       "      <th>Open</th>\n",
       "      <th>High</th>\n",
       "      <th>Low</th>\n",
       "      <th>Close</th>\n",
       "      <th>Volume</th>\n",
       "      <th>Dividends</th>\n",
       "      <th>Stock Splits</th>\n",
       "    </tr>\n",
       "    <tr>\n",
       "      <th>Date</th>\n",
       "      <th></th>\n",
       "      <th></th>\n",
       "      <th></th>\n",
       "      <th></th>\n",
       "      <th></th>\n",
       "      <th></th>\n",
       "      <th></th>\n",
       "    </tr>\n",
       "  </thead>\n",
       "  <tbody>\n",
       "    <tr>\n",
       "      <th>2022-09-08</th>\n",
       "      <td>154.14854</td>\n",
       "      <td>155.86307</td>\n",
       "      <td>152.19476</td>\n",
       "      <td>153.96912</td>\n",
       "      <td>84923800</td>\n",
       "      <td>0.0</td>\n",
       "      <td>0</td>\n",
       "    </tr>\n",
       "    <tr>\n",
       "      <th>2022-09-09</th>\n",
       "      <td>154.97590</td>\n",
       "      <td>157.31844</td>\n",
       "      <td>154.25819</td>\n",
       "      <td>156.86986</td>\n",
       "      <td>68028800</td>\n",
       "      <td>0.0</td>\n",
       "      <td>0</td>\n",
       "    </tr>\n",
       "    <tr>\n",
       "      <th>2022-09-12</th>\n",
       "      <td>159.08281</td>\n",
       "      <td>163.73796</td>\n",
       "      <td>158.79373</td>\n",
       "      <td>162.91060</td>\n",
       "      <td>104956000</td>\n",
       "      <td>0.0</td>\n",
       "      <td>0</td>\n",
       "    </tr>\n",
       "    <tr>\n",
       "      <th>2022-09-13</th>\n",
       "      <td>159.39181</td>\n",
       "      <td>160.02978</td>\n",
       "      <td>152.88257</td>\n",
       "      <td>153.35107</td>\n",
       "      <td>122656600</td>\n",
       "      <td>0.0</td>\n",
       "      <td>0</td>\n",
       "    </tr>\n",
       "    <tr>\n",
       "      <th>2022-09-14</th>\n",
       "      <td>154.29805</td>\n",
       "      <td>156.60073</td>\n",
       "      <td>153.12181</td>\n",
       "      <td>154.81641</td>\n",
       "      <td>87965400</td>\n",
       "      <td>0.0</td>\n",
       "      <td>0</td>\n",
       "    </tr>\n",
       "    <tr>\n",
       "      <th>...</th>\n",
       "      <td>...</td>\n",
       "      <td>...</td>\n",
       "      <td>...</td>\n",
       "      <td>...</td>\n",
       "      <td>...</td>\n",
       "      <td>...</td>\n",
       "      <td>...</td>\n",
       "    </tr>\n",
       "    <tr>\n",
       "      <th>2023-03-02</th>\n",
       "      <td>144.38000</td>\n",
       "      <td>146.71001</td>\n",
       "      <td>143.89999</td>\n",
       "      <td>145.91000</td>\n",
       "      <td>52238100</td>\n",
       "      <td>0.0</td>\n",
       "      <td>0</td>\n",
       "    </tr>\n",
       "    <tr>\n",
       "      <th>2023-03-03</th>\n",
       "      <td>148.03999</td>\n",
       "      <td>151.11000</td>\n",
       "      <td>147.33000</td>\n",
       "      <td>151.03000</td>\n",
       "      <td>70668500</td>\n",
       "      <td>0.0</td>\n",
       "      <td>0</td>\n",
       "    </tr>\n",
       "    <tr>\n",
       "      <th>2023-03-06</th>\n",
       "      <td>153.78999</td>\n",
       "      <td>156.30000</td>\n",
       "      <td>153.46001</td>\n",
       "      <td>153.83000</td>\n",
       "      <td>87558000</td>\n",
       "      <td>0.0</td>\n",
       "      <td>0</td>\n",
       "    </tr>\n",
       "    <tr>\n",
       "      <th>2023-03-07</th>\n",
       "      <td>153.70000</td>\n",
       "      <td>154.03000</td>\n",
       "      <td>151.13000</td>\n",
       "      <td>151.60001</td>\n",
       "      <td>56182000</td>\n",
       "      <td>0.0</td>\n",
       "      <td>0</td>\n",
       "    </tr>\n",
       "    <tr>\n",
       "      <th>2023-03-08</th>\n",
       "      <td>152.81000</td>\n",
       "      <td>153.47000</td>\n",
       "      <td>151.83000</td>\n",
       "      <td>152.87000</td>\n",
       "      <td>47204800</td>\n",
       "      <td>0.0</td>\n",
       "      <td>0</td>\n",
       "    </tr>\n",
       "  </tbody>\n",
       "</table>\n",
       "<p>125 rows × 7 columns</p>\n",
       "</div>"
      ],
      "text/plain": [
       "                 Open       High        Low      Close     Volume  Dividends  \\\n",
       "Date                                                                           \n",
       "2022-09-08  154.14854  155.86307  152.19476  153.96912   84923800        0.0   \n",
       "2022-09-09  154.97590  157.31844  154.25819  156.86986   68028800        0.0   \n",
       "2022-09-12  159.08281  163.73796  158.79373  162.91060  104956000        0.0   \n",
       "2022-09-13  159.39181  160.02978  152.88257  153.35107  122656600        0.0   \n",
       "2022-09-14  154.29805  156.60073  153.12181  154.81641   87965400        0.0   \n",
       "...               ...        ...        ...        ...        ...        ...   \n",
       "2023-03-02  144.38000  146.71001  143.89999  145.91000   52238100        0.0   \n",
       "2023-03-03  148.03999  151.11000  147.33000  151.03000   70668500        0.0   \n",
       "2023-03-06  153.78999  156.30000  153.46001  153.83000   87558000        0.0   \n",
       "2023-03-07  153.70000  154.03000  151.13000  151.60001   56182000        0.0   \n",
       "2023-03-08  152.81000  153.47000  151.83000  152.87000   47204800        0.0   \n",
       "\n",
       "            Stock Splits  \n",
       "Date                      \n",
       "2022-09-08             0  \n",
       "2022-09-09             0  \n",
       "2022-09-12             0  \n",
       "2022-09-13             0  \n",
       "2022-09-14             0  \n",
       "...                  ...  \n",
       "2023-03-02             0  \n",
       "2023-03-03             0  \n",
       "2023-03-06             0  \n",
       "2023-03-07             0  \n",
       "2023-03-08             0  \n",
       "\n",
       "[125 rows x 7 columns]"
      ]
     },
     "execution_count": 5,
     "metadata": {},
     "output_type": "execute_result"
    }
   ],
   "source": [
    "\"\"\" Get historical market data \"\"\"\n",
    "_START  = NOW-dt.timedelta(days=ceil(365/2))\n",
    "hist    = aapl.history(start=_START, end=NOW)[2:]\n",
    "hist"
   ]
  },
  {
   "cell_type": "markdown",
   "metadata": {
    "collapsed": false
   },
   "source": [
    "### Calculate S0 from the last Closing Price - daily Interval"
   ]
  },
  {
   "cell_type": "code",
   "execution_count": 6,
   "metadata": {
    "collapsed": false,
    "pycharm": {
     "name": "#%%\n"
    }
   },
   "outputs": [
    {
     "name": "stdout",
     "output_type": "stream",
     "text": [
      "S0 = 152.87000\n"
     ]
    }
   ],
   "source": [
    "\"\"\" Closing Price - S0 \"\"\"\n",
    "S0 = hist.iloc[-1].Close ; print(f'S0 = {S0:.5f}')"
   ]
  },
  {
   "cell_type": "markdown",
   "metadata": {
    "collapsed": false
   },
   "source": [
    "## Calculate SIGMA - Historical Volatility"
   ]
  },
  {
   "cell_type": "code",
   "execution_count": 7,
   "metadata": {
    "pycharm": {
     "name": "#%%\n"
    }
   },
   "outputs": [
    {
     "name": "stdout",
     "output_type": "stream",
     "text": [
      "Historical Volatility the last 6 months using different methods for calculating Volatility\n",
      "\n",
      "Std(log(returns)): \n",
      ">> 0.359683206\n",
      "\n",
      "Parkinson volatility: \n",
      ">> 0.284331218\n",
      "\n",
      "Rogers and Satchell Volatility: \n",
      ">> 0.272586353\n"
     ]
    },
    {
     "data": {
      "image/png": "[encoded data removed]",
      "text/plain": [
       "<Figure size 864x360 with 1 Axes>"
      ]
     },
     "metadata": {
      "needs_background": "light"
     },
     "output_type": "display_data"
    }
   ],
   "source": [
    "from numpy import log as ln\n",
    "\"\"\" Std of the log of daily returns \"\"\"\n",
    "hist['prChange'] = hist.Close.pct_change()\n",
    "hist['log_ret'] = np.log(1 + hist.prChange)\n",
    "print(\"Historical Volatility the last 6 months using different methods for calculating Volatility\\n\")\n",
    "\n",
    "\"\"\" Std of Log Returns for the last 6 months \"\"\"\n",
    "SIGMA = hist.loc[hist.index > _START].log_ret.std(ddof=1) * np.sqrt(252)\n",
    "print(f'Std(log(returns)): \\n>> {SIGMA:.9f}\\n')\n",
    "\n",
    "\"\"\" Parkinson Volatility Model \"\"\"\n",
    "sum_squared_log_HL = ((np.log((hist.High / hist.Low)))**2 ).loc[hist.index > _START]\n",
    "parkinson_historical_volatility_last_6_months = np.sqrt( 1/(4*(sum_squared_log_HL.shape[0]-1)*np.log(2)) * sum_squared_log_HL.sum() ) * np.sqrt(252)\n",
    "print(f'Parkinson volatility: \\n>> {parkinson_historical_volatility_last_6_months:.9f}\\n')\n",
    "\n",
    "\"\"\" Rogers and Satchell Volatility Function \"\"\"\n",
    "data = hist.loc[hist.index > _START]\n",
    "daily_rs_sqr_vol = (ln(data.High/data.Open)*(ln(data.High/data.Close))) \\\n",
    "         + ln(data.Low/data.Open)*( ln(data.Low/data.Close))\n",
    "rs_vol = np.sqrt(daily_rs_sqr_vol.mean()) * np.sqrt(252)\n",
    "print(f'Rogers and Satchell Volatility: \\n>> {rs_vol:.9f}')\n",
    "\n",
    "ax = hist.loc[hist.index > _START].log_ret.hist(bins=20)\n",
    "ax = hist.loc[hist.index > _START].log_ret.plot(kind='kde', title='Distribution of Log Daily Returns Returns- Last 6Months', figsize=(12,5))\n",
    "plt.xlabel('Log Daily Returns Returns') ; plt.show()\n"
   ]
  },
  {
   "cell_type": "markdown",
   "metadata": {
    "collapsed": false
   },
   "source": [
    "## Calculate K\n",
    "\n",
    "Get available expiration dates for available options' - and find option closer to the current"
   ]
  },
  {
   "cell_type": "code",
   "execution_count": 8,
   "metadata": {
    "pycharm": {
     "name": "#%%\n"
    }
   },
   "outputs": [
    {
     "name": "stdout",
     "output_type": "stream",
     "text": [
      "Available Expiration Dates:  ('2023-03-17', '2023-03-24', '2023-03-31', '2023-04-06', '2023-04-14', '2023-04-21', '2023-04-28', '2023-05-19', '2023-06-16', '2023-07-21', '2023-08-18', '2023-09-15', '2023-10-20', '2023-12-15', '2024-01-19', '2024-03-15', '2024-06-21', '2024-09-20', '2024-12-20', '2025-01-17', '2025-06-20', '2025-12-19')\n",
      ">>Expiration Date closest to the 6 months: 2023-09-15\n",
      "T = 0.5238095238095238\n"
     ]
    }
   ],
   "source": [
    "\"\"\" Available Dates \"\"\"\n",
    "options_list = aapl.options\n",
    "print('Available Expiration Dates: ', options_list)\n",
    "\n",
    "\"\"\" Find Nearest to 6 months \"\"\"\n",
    "indx_of_closest_to_6M = np.argmin(np.abs(pd.to_datetime(options_list) - _END))\n",
    "print(f'>>Expiration Date closest to the 6 months: {options_list[indx_of_closest_to_6M]}')\n",
    "pd.to_datetime(options_list[indx_of_closest_to_6M]) - NOW\n",
    "\n",
    "T = nyse.schedule(start_date=NOW, end_date=pd.to_datetime(options_list[indx_of_closest_to_6M])).shape[0] / 252\n",
    "print(f'T = {T}')"
   ]
  },
  {
   "cell_type": "code",
   "execution_count": 9,
   "metadata": {
    "pycharm": {
     "name": "#%%\n"
    }
   },
   "outputs": [
    {
     "data": {
      "text/html": [
       "<div>\n",
       "<style scoped>\n",
       "    .dataframe tbody tr th:only-of-type {\n",
       "        vertical-align: middle;\n",
       "    }\n",
       "\n",
       "    .dataframe tbody tr th {\n",
       "        vertical-align: top;\n",
       "    }\n",
       "\n",
       "    .dataframe thead th {\n",
       "        text-align: right;\n",
       "    }\n",
       "</style>\n",
       "<table border=\"1\" class=\"dataframe\">\n",
       "  <thead>\n",
       "    <tr style=\"text-align: right;\">\n",
       "      <th></th>\n",
       "      <th>contractSymbol</th>\n",
       "      <th>lastTradeDate</th>\n",
       "      <th>strike</th>\n",
       "      <th>lastPrice</th>\n",
       "      <th>bid</th>\n",
       "      <th>ask</th>\n",
       "      <th>change</th>\n",
       "      <th>percentChange</th>\n",
       "      <th>volume</th>\n",
       "      <th>openInterest</th>\n",
       "      <th>impliedVolatility</th>\n",
       "      <th>inTheMoney</th>\n",
       "      <th>contractSize</th>\n",
       "      <th>currency</th>\n",
       "    </tr>\n",
       "  </thead>\n",
       "  <tbody>\n",
       "    <tr>\n",
       "      <th>0</th>\n",
       "      <td>AAPL230915P00065000</td>\n",
       "      <td>2023-03-14 19:23:51+00:00</td>\n",
       "      <td>65.0</td>\n",
       "      <td>0.16</td>\n",
       "      <td>0.00</td>\n",
       "      <td>0.00</td>\n",
       "      <td>0.0</td>\n",
       "      <td>0.0</td>\n",
       "      <td>2</td>\n",
       "      <td>0</td>\n",
       "      <td>0.25001</td>\n",
       "      <td>False</td>\n",
       "      <td>REGULAR</td>\n",
       "      <td>USD</td>\n",
       "    </tr>\n",
       "    <tr>\n",
       "      <th>1</th>\n",
       "      <td>AAPL230915P00070000</td>\n",
       "      <td>2023-03-14 18:01:11+00:00</td>\n",
       "      <td>70.0</td>\n",
       "      <td>0.21</td>\n",
       "      <td>0.00</td>\n",
       "      <td>0.00</td>\n",
       "      <td>0.0</td>\n",
       "      <td>0.0</td>\n",
       "      <td>402</td>\n",
       "      <td>0</td>\n",
       "      <td>0.25001</td>\n",
       "      <td>False</td>\n",
       "      <td>REGULAR</td>\n",
       "      <td>USD</td>\n",
       "    </tr>\n",
       "    <tr>\n",
       "      <th>2</th>\n",
       "      <td>AAPL230915P00075000</td>\n",
       "      <td>2023-03-13 14:16:34+00:00</td>\n",
       "      <td>75.0</td>\n",
       "      <td>0.27</td>\n",
       "      <td>0.00</td>\n",
       "      <td>0.00</td>\n",
       "      <td>0.0</td>\n",
       "      <td>0.0</td>\n",
       "      <td>1</td>\n",
       "      <td>0</td>\n",
       "      <td>0.25001</td>\n",
       "      <td>False</td>\n",
       "      <td>REGULAR</td>\n",
       "      <td>USD</td>\n",
       "    </tr>\n",
       "    <tr>\n",
       "      <th>3</th>\n",
       "      <td>AAPL230915P00080000</td>\n",
       "      <td>2023-03-14 17:12:06+00:00</td>\n",
       "      <td>80.0</td>\n",
       "      <td>0.32</td>\n",
       "      <td>0.00</td>\n",
       "      <td>0.00</td>\n",
       "      <td>0.0</td>\n",
       "      <td>0.0</td>\n",
       "      <td>34</td>\n",
       "      <td>0</td>\n",
       "      <td>0.25001</td>\n",
       "      <td>False</td>\n",
       "      <td>REGULAR</td>\n",
       "      <td>USD</td>\n",
       "    </tr>\n",
       "    <tr>\n",
       "      <th>4</th>\n",
       "      <td>AAPL230915P00085000</td>\n",
       "      <td>2023-03-13 18:36:09+00:00</td>\n",
       "      <td>85.0</td>\n",
       "      <td>0.46</td>\n",
       "      <td>0.00</td>\n",
       "      <td>0.00</td>\n",
       "      <td>0.0</td>\n",
       "      <td>0.0</td>\n",
       "      <td>127</td>\n",
       "      <td>0</td>\n",
       "      <td>0.12501</td>\n",
       "      <td>False</td>\n",
       "      <td>REGULAR</td>\n",
       "      <td>USD</td>\n",
       "    </tr>\n",
       "    <tr>\n",
       "      <th>5</th>\n",
       "      <td>AAPL230915P00090000</td>\n",
       "      <td>2023-03-14 19:35:44+00:00</td>\n",
       "      <td>90.0</td>\n",
       "      <td>0.60</td>\n",
       "      <td>0.00</td>\n",
       "      <td>0.00</td>\n",
       "      <td>0.0</td>\n",
       "      <td>0.0</td>\n",
       "      <td>4</td>\n",
       "      <td>0</td>\n",
       "      <td>0.12501</td>\n",
       "      <td>False</td>\n",
       "      <td>REGULAR</td>\n",
       "      <td>USD</td>\n",
       "    </tr>\n",
       "    <tr>\n",
       "      <th>6</th>\n",
       "      <td>AAPL230915P00095000</td>\n",
       "      <td>2023-03-14 15:38:08+00:00</td>\n",
       "      <td>95.0</td>\n",
       "      <td>0.67</td>\n",
       "      <td>0.00</td>\n",
       "      <td>0.00</td>\n",
       "      <td>0.0</td>\n",
       "      <td>0.0</td>\n",
       "      <td>13</td>\n",
       "      <td>0</td>\n",
       "      <td>0.12501</td>\n",
       "      <td>False</td>\n",
       "      <td>REGULAR</td>\n",
       "      <td>USD</td>\n",
       "    </tr>\n",
       "    <tr>\n",
       "      <th>7</th>\n",
       "      <td>AAPL230915P00100000</td>\n",
       "      <td>2023-03-14 17:16:33+00:00</td>\n",
       "      <td>100.0</td>\n",
       "      <td>0.98</td>\n",
       "      <td>0.00</td>\n",
       "      <td>0.00</td>\n",
       "      <td>0.0</td>\n",
       "      <td>0.0</td>\n",
       "      <td>17</td>\n",
       "      <td>0</td>\n",
       "      <td>0.12501</td>\n",
       "      <td>False</td>\n",
       "      <td>REGULAR</td>\n",
       "      <td>USD</td>\n",
       "    </tr>\n",
       "    <tr>\n",
       "      <th>8</th>\n",
       "      <td>AAPL230915P00105000</td>\n",
       "      <td>2023-03-14 17:16:33+00:00</td>\n",
       "      <td>105.0</td>\n",
       "      <td>1.28</td>\n",
       "      <td>0.00</td>\n",
       "      <td>0.00</td>\n",
       "      <td>0.0</td>\n",
       "      <td>0.0</td>\n",
       "      <td>1</td>\n",
       "      <td>0</td>\n",
       "      <td>0.12501</td>\n",
       "      <td>False</td>\n",
       "      <td>REGULAR</td>\n",
       "      <td>USD</td>\n",
       "    </tr>\n",
       "    <tr>\n",
       "      <th>9</th>\n",
       "      <td>AAPL230915P00110000</td>\n",
       "      <td>2023-03-14 19:57:55+00:00</td>\n",
       "      <td>110.0</td>\n",
       "      <td>1.59</td>\n",
       "      <td>0.00</td>\n",
       "      <td>0.00</td>\n",
       "      <td>0.0</td>\n",
       "      <td>0.0</td>\n",
       "      <td>10</td>\n",
       "      <td>0</td>\n",
       "      <td>0.12501</td>\n",
       "      <td>False</td>\n",
       "      <td>REGULAR</td>\n",
       "      <td>USD</td>\n",
       "    </tr>\n",
       "    <tr>\n",
       "      <th>10</th>\n",
       "      <td>AAPL230915P00115000</td>\n",
       "      <td>2023-03-14 19:51:16+00:00</td>\n",
       "      <td>115.0</td>\n",
       "      <td>2.15</td>\n",
       "      <td>0.00</td>\n",
       "      <td>0.00</td>\n",
       "      <td>0.0</td>\n",
       "      <td>0.0</td>\n",
       "      <td>71</td>\n",
       "      <td>0</td>\n",
       "      <td>0.06251</td>\n",
       "      <td>False</td>\n",
       "      <td>REGULAR</td>\n",
       "      <td>USD</td>\n",
       "    </tr>\n",
       "    <tr>\n",
       "      <th>11</th>\n",
       "      <td>AAPL230915P00120000</td>\n",
       "      <td>2023-03-14 19:58:07+00:00</td>\n",
       "      <td>120.0</td>\n",
       "      <td>2.70</td>\n",
       "      <td>0.00</td>\n",
       "      <td>0.00</td>\n",
       "      <td>0.0</td>\n",
       "      <td>0.0</td>\n",
       "      <td>228</td>\n",
       "      <td>0</td>\n",
       "      <td>0.06251</td>\n",
       "      <td>False</td>\n",
       "      <td>REGULAR</td>\n",
       "      <td>USD</td>\n",
       "    </tr>\n",
       "    <tr>\n",
       "      <th>12</th>\n",
       "      <td>AAPL230915P00125000</td>\n",
       "      <td>2023-03-14 18:31:21+00:00</td>\n",
       "      <td>125.0</td>\n",
       "      <td>3.55</td>\n",
       "      <td>0.00</td>\n",
       "      <td>0.00</td>\n",
       "      <td>0.0</td>\n",
       "      <td>0.0</td>\n",
       "      <td>52</td>\n",
       "      <td>0</td>\n",
       "      <td>0.06251</td>\n",
       "      <td>False</td>\n",
       "      <td>REGULAR</td>\n",
       "      <td>USD</td>\n",
       "    </tr>\n",
       "    <tr>\n",
       "      <th>13</th>\n",
       "      <td>AAPL230915P00130000</td>\n",
       "      <td>2023-03-14 19:56:21+00:00</td>\n",
       "      <td>130.0</td>\n",
       "      <td>4.45</td>\n",
       "      <td>0.00</td>\n",
       "      <td>0.00</td>\n",
       "      <td>0.0</td>\n",
       "      <td>0.0</td>\n",
       "      <td>295</td>\n",
       "      <td>0</td>\n",
       "      <td>0.06251</td>\n",
       "      <td>False</td>\n",
       "      <td>REGULAR</td>\n",
       "      <td>USD</td>\n",
       "    </tr>\n",
       "    <tr>\n",
       "      <th>14</th>\n",
       "      <td>AAPL230915P00135000</td>\n",
       "      <td>2023-03-14 19:57:42+00:00</td>\n",
       "      <td>135.0</td>\n",
       "      <td>5.45</td>\n",
       "      <td>0.00</td>\n",
       "      <td>0.00</td>\n",
       "      <td>0.0</td>\n",
       "      <td>0.0</td>\n",
       "      <td>48</td>\n",
       "      <td>0</td>\n",
       "      <td>0.03126</td>\n",
       "      <td>False</td>\n",
       "      <td>REGULAR</td>\n",
       "      <td>USD</td>\n",
       "    </tr>\n",
       "    <tr>\n",
       "      <th>15</th>\n",
       "      <td>AAPL230915P00140000</td>\n",
       "      <td>2023-03-14 19:18:05+00:00</td>\n",
       "      <td>140.0</td>\n",
       "      <td>7.50</td>\n",
       "      <td>0.00</td>\n",
       "      <td>0.00</td>\n",
       "      <td>0.0</td>\n",
       "      <td>0.0</td>\n",
       "      <td>195</td>\n",
       "      <td>0</td>\n",
       "      <td>0.03126</td>\n",
       "      <td>False</td>\n",
       "      <td>REGULAR</td>\n",
       "      <td>USD</td>\n",
       "    </tr>\n",
       "    <tr>\n",
       "      <th>16</th>\n",
       "      <td>AAPL230915P00145000</td>\n",
       "      <td>2023-03-14 19:58:49+00:00</td>\n",
       "      <td>145.0</td>\n",
       "      <td>8.40</td>\n",
       "      <td>0.00</td>\n",
       "      <td>0.00</td>\n",
       "      <td>0.0</td>\n",
       "      <td>0.0</td>\n",
       "      <td>918</td>\n",
       "      <td>0</td>\n",
       "      <td>0.01563</td>\n",
       "      <td>False</td>\n",
       "      <td>REGULAR</td>\n",
       "      <td>USD</td>\n",
       "    </tr>\n",
       "    <tr>\n",
       "      <th>17</th>\n",
       "      <td>AAPL230915P00150000</td>\n",
       "      <td>2023-03-14 19:58:13+00:00</td>\n",
       "      <td>150.0</td>\n",
       "      <td>10.23</td>\n",
       "      <td>0.00</td>\n",
       "      <td>0.00</td>\n",
       "      <td>0.0</td>\n",
       "      <td>0.0</td>\n",
       "      <td>262</td>\n",
       "      <td>0</td>\n",
       "      <td>0.00782</td>\n",
       "      <td>False</td>\n",
       "      <td>REGULAR</td>\n",
       "      <td>USD</td>\n",
       "    </tr>\n",
       "    <tr>\n",
       "      <th>18</th>\n",
       "      <td>AAPL230915P00155000</td>\n",
       "      <td>2023-03-14 19:58:04+00:00</td>\n",
       "      <td>155.0</td>\n",
       "      <td>12.40</td>\n",
       "      <td>0.00</td>\n",
       "      <td>0.00</td>\n",
       "      <td>0.0</td>\n",
       "      <td>0.0</td>\n",
       "      <td>130</td>\n",
       "      <td>0</td>\n",
       "      <td>0.00001</td>\n",
       "      <td>True</td>\n",
       "      <td>REGULAR</td>\n",
       "      <td>USD</td>\n",
       "    </tr>\n",
       "    <tr>\n",
       "      <th>19</th>\n",
       "      <td>AAPL230915P00160000</td>\n",
       "      <td>2023-03-14 19:40:45+00:00</td>\n",
       "      <td>160.0</td>\n",
       "      <td>15.65</td>\n",
       "      <td>0.00</td>\n",
       "      <td>0.00</td>\n",
       "      <td>0.0</td>\n",
       "      <td>0.0</td>\n",
       "      <td>166</td>\n",
       "      <td>0</td>\n",
       "      <td>0.00001</td>\n",
       "      <td>True</td>\n",
       "      <td>REGULAR</td>\n",
       "      <td>USD</td>\n",
       "    </tr>\n",
       "    <tr>\n",
       "      <th>20</th>\n",
       "      <td>AAPL230915P00165000</td>\n",
       "      <td>2023-03-10 16:33:54+00:00</td>\n",
       "      <td>165.0</td>\n",
       "      <td>18.73</td>\n",
       "      <td>0.00</td>\n",
       "      <td>0.00</td>\n",
       "      <td>0.0</td>\n",
       "      <td>0.0</td>\n",
       "      <td>9</td>\n",
       "      <td>0</td>\n",
       "      <td>0.00001</td>\n",
       "      <td>True</td>\n",
       "      <td>REGULAR</td>\n",
       "      <td>USD</td>\n",
       "    </tr>\n",
       "    <tr>\n",
       "      <th>21</th>\n",
       "      <td>AAPL230915P00170000</td>\n",
       "      <td>2023-03-14 14:59:19+00:00</td>\n",
       "      <td>170.0</td>\n",
       "      <td>20.80</td>\n",
       "      <td>0.00</td>\n",
       "      <td>0.00</td>\n",
       "      <td>0.0</td>\n",
       "      <td>0.0</td>\n",
       "      <td>1</td>\n",
       "      <td>0</td>\n",
       "      <td>0.00001</td>\n",
       "      <td>True</td>\n",
       "      <td>REGULAR</td>\n",
       "      <td>USD</td>\n",
       "    </tr>\n",
       "    <tr>\n",
       "      <th>22</th>\n",
       "      <td>AAPL230915P00175000</td>\n",
       "      <td>2023-03-14 19:12:34+00:00</td>\n",
       "      <td>175.0</td>\n",
       "      <td>26.50</td>\n",
       "      <td>0.00</td>\n",
       "      <td>0.00</td>\n",
       "      <td>0.0</td>\n",
       "      <td>0.0</td>\n",
       "      <td>11</td>\n",
       "      <td>0</td>\n",
       "      <td>0.00001</td>\n",
       "      <td>True</td>\n",
       "      <td>REGULAR</td>\n",
       "      <td>USD</td>\n",
       "    </tr>\n",
       "    <tr>\n",
       "      <th>23</th>\n",
       "      <td>AAPL230915P00180000</td>\n",
       "      <td>2023-03-13 19:24:25+00:00</td>\n",
       "      <td>180.0</td>\n",
       "      <td>29.80</td>\n",
       "      <td>0.00</td>\n",
       "      <td>0.00</td>\n",
       "      <td>0.0</td>\n",
       "      <td>0.0</td>\n",
       "      <td>2</td>\n",
       "      <td>0</td>\n",
       "      <td>0.00001</td>\n",
       "      <td>True</td>\n",
       "      <td>REGULAR</td>\n",
       "      <td>USD</td>\n",
       "    </tr>\n",
       "    <tr>\n",
       "      <th>24</th>\n",
       "      <td>AAPL230915P00185000</td>\n",
       "      <td>2023-03-07 19:54:11+00:00</td>\n",
       "      <td>185.0</td>\n",
       "      <td>33.75</td>\n",
       "      <td>0.00</td>\n",
       "      <td>0.00</td>\n",
       "      <td>0.0</td>\n",
       "      <td>0.0</td>\n",
       "      <td>9</td>\n",
       "      <td>0</td>\n",
       "      <td>0.00001</td>\n",
       "      <td>True</td>\n",
       "      <td>REGULAR</td>\n",
       "      <td>USD</td>\n",
       "    </tr>\n",
       "    <tr>\n",
       "      <th>25</th>\n",
       "      <td>AAPL230915P00190000</td>\n",
       "      <td>2023-03-14 18:10:07+00:00</td>\n",
       "      <td>190.0</td>\n",
       "      <td>39.00</td>\n",
       "      <td>0.00</td>\n",
       "      <td>0.00</td>\n",
       "      <td>0.0</td>\n",
       "      <td>0.0</td>\n",
       "      <td>10</td>\n",
       "      <td>0</td>\n",
       "      <td>0.00001</td>\n",
       "      <td>True</td>\n",
       "      <td>REGULAR</td>\n",
       "      <td>USD</td>\n",
       "    </tr>\n",
       "    <tr>\n",
       "      <th>26</th>\n",
       "      <td>AAPL230915P00195000</td>\n",
       "      <td>2023-02-16 19:24:42+00:00</td>\n",
       "      <td>195.0</td>\n",
       "      <td>39.00</td>\n",
       "      <td>0.00</td>\n",
       "      <td>0.00</td>\n",
       "      <td>0.0</td>\n",
       "      <td>0.0</td>\n",
       "      <td>2</td>\n",
       "      <td>0</td>\n",
       "      <td>0.00001</td>\n",
       "      <td>True</td>\n",
       "      <td>REGULAR</td>\n",
       "      <td>USD</td>\n",
       "    </tr>\n",
       "    <tr>\n",
       "      <th>27</th>\n",
       "      <td>AAPL230915P00200000</td>\n",
       "      <td>2023-03-14 14:47:57+00:00</td>\n",
       "      <td>200.0</td>\n",
       "      <td>47.00</td>\n",
       "      <td>0.00</td>\n",
       "      <td>0.00</td>\n",
       "      <td>0.0</td>\n",
       "      <td>0.0</td>\n",
       "      <td>4</td>\n",
       "      <td>0</td>\n",
       "      <td>0.00001</td>\n",
       "      <td>True</td>\n",
       "      <td>REGULAR</td>\n",
       "      <td>USD</td>\n",
       "    </tr>\n",
       "    <tr>\n",
       "      <th>28</th>\n",
       "      <td>AAPL230915P00205000</td>\n",
       "      <td>2023-02-08 19:44:40+00:00</td>\n",
       "      <td>205.0</td>\n",
       "      <td>53.20</td>\n",
       "      <td>55.95</td>\n",
       "      <td>58.15</td>\n",
       "      <td>0.0</td>\n",
       "      <td>0.0</td>\n",
       "      <td>1</td>\n",
       "      <td>0</td>\n",
       "      <td>0.45991</td>\n",
       "      <td>True</td>\n",
       "      <td>REGULAR</td>\n",
       "      <td>USD</td>\n",
       "    </tr>\n",
       "    <tr>\n",
       "      <th>29</th>\n",
       "      <td>AAPL230915P00210000</td>\n",
       "      <td>2022-12-22 16:52:20+00:00</td>\n",
       "      <td>210.0</td>\n",
       "      <td>78.50</td>\n",
       "      <td>71.50</td>\n",
       "      <td>72.90</td>\n",
       "      <td>0.0</td>\n",
       "      <td>0.0</td>\n",
       "      <td>6</td>\n",
       "      <td>0</td>\n",
       "      <td>0.72388</td>\n",
       "      <td>True</td>\n",
       "      <td>REGULAR</td>\n",
       "      <td>USD</td>\n",
       "    </tr>\n",
       "    <tr>\n",
       "      <th>30</th>\n",
       "      <td>AAPL230915P00220000</td>\n",
       "      <td>2023-01-30 16:45:13+00:00</td>\n",
       "      <td>220.0</td>\n",
       "      <td>76.16</td>\n",
       "      <td>73.60</td>\n",
       "      <td>74.35</td>\n",
       "      <td>0.0</td>\n",
       "      <td>0.0</td>\n",
       "      <td>66</td>\n",
       "      <td>0</td>\n",
       "      <td>0.54676</td>\n",
       "      <td>True</td>\n",
       "      <td>REGULAR</td>\n",
       "      <td>USD</td>\n",
       "    </tr>\n",
       "    <tr>\n",
       "      <th>31</th>\n",
       "      <td>AAPL230915P00230000</td>\n",
       "      <td>2023-01-30 16:00:54+00:00</td>\n",
       "      <td>230.0</td>\n",
       "      <td>86.02</td>\n",
       "      <td>83.50</td>\n",
       "      <td>84.45</td>\n",
       "      <td>0.0</td>\n",
       "      <td>0.0</td>\n",
       "      <td>2</td>\n",
       "      <td>0</td>\n",
       "      <td>0.58442</td>\n",
       "      <td>True</td>\n",
       "      <td>REGULAR</td>\n",
       "      <td>USD</td>\n",
       "    </tr>\n",
       "    <tr>\n",
       "      <th>32</th>\n",
       "      <td>AAPL230915P00240000</td>\n",
       "      <td>2022-09-29 14:35:58+00:00</td>\n",
       "      <td>240.0</td>\n",
       "      <td>96.94</td>\n",
       "      <td>83.65</td>\n",
       "      <td>85.00</td>\n",
       "      <td>0.0</td>\n",
       "      <td>0.0</td>\n",
       "      <td>2</td>\n",
       "      <td>1</td>\n",
       "      <td>0.00001</td>\n",
       "      <td>True</td>\n",
       "      <td>REGULAR</td>\n",
       "      <td>USD</td>\n",
       "    </tr>\n",
       "    <tr>\n",
       "      <th>33</th>\n",
       "      <td>AAPL230915P00250000</td>\n",
       "      <td>2022-12-02 16:31:08+00:00</td>\n",
       "      <td>250.0</td>\n",
       "      <td>103.58</td>\n",
       "      <td>119.40</td>\n",
       "      <td>121.50</td>\n",
       "      <td>0.0</td>\n",
       "      <td>0.0</td>\n",
       "      <td>2</td>\n",
       "      <td>0</td>\n",
       "      <td>1.08829</td>\n",
       "      <td>True</td>\n",
       "      <td>REGULAR</td>\n",
       "      <td>USD</td>\n",
       "    </tr>\n",
       "    <tr>\n",
       "      <th>34</th>\n",
       "      <td>AAPL230915P00260000</td>\n",
       "      <td>2022-10-14 16:10:50+00:00</td>\n",
       "      <td>260.0</td>\n",
       "      <td>120.54</td>\n",
       "      <td>109.65</td>\n",
       "      <td>111.00</td>\n",
       "      <td>0.0</td>\n",
       "      <td>0.0</td>\n",
       "      <td>2</td>\n",
       "      <td>0</td>\n",
       "      <td>0.54334</td>\n",
       "      <td>True</td>\n",
       "      <td>REGULAR</td>\n",
       "      <td>USD</td>\n",
       "    </tr>\n",
       "    <tr>\n",
       "      <th>35</th>\n",
       "      <td>AAPL230915P00270000</td>\n",
       "      <td>2022-09-29 18:49:54+00:00</td>\n",
       "      <td>270.0</td>\n",
       "      <td>128.77</td>\n",
       "      <td>113.50</td>\n",
       "      <td>115.05</td>\n",
       "      <td>0.0</td>\n",
       "      <td>0.0</td>\n",
       "      <td>170</td>\n",
       "      <td>0</td>\n",
       "      <td>0.00001</td>\n",
       "      <td>True</td>\n",
       "      <td>REGULAR</td>\n",
       "      <td>USD</td>\n",
       "    </tr>\n",
       "    <tr>\n",
       "      <th>36</th>\n",
       "      <td>AAPL230915P00280000</td>\n",
       "      <td>2022-11-10 18:41:12+00:00</td>\n",
       "      <td>280.0</td>\n",
       "      <td>136.60</td>\n",
       "      <td>136.65</td>\n",
       "      <td>138.95</td>\n",
       "      <td>0.0</td>\n",
       "      <td>0.0</td>\n",
       "      <td>2</td>\n",
       "      <td>0</td>\n",
       "      <td>0.85999</td>\n",
       "      <td>True</td>\n",
       "      <td>REGULAR</td>\n",
       "      <td>USD</td>\n",
       "    </tr>\n",
       "    <tr>\n",
       "      <th>37</th>\n",
       "      <td>AAPL230915P00290000</td>\n",
       "      <td>2022-11-10 15:49:12+00:00</td>\n",
       "      <td>290.0</td>\n",
       "      <td>146.75</td>\n",
       "      <td>146.85</td>\n",
       "      <td>148.70</td>\n",
       "      <td>0.0</td>\n",
       "      <td>0.0</td>\n",
       "      <td>2</td>\n",
       "      <td>0</td>\n",
       "      <td>0.88690</td>\n",
       "      <td>True</td>\n",
       "      <td>REGULAR</td>\n",
       "      <td>USD</td>\n",
       "    </tr>\n",
       "    <tr>\n",
       "      <th>38</th>\n",
       "      <td>AAPL230915P00300000</td>\n",
       "      <td>2022-11-16 19:51:19+00:00</td>\n",
       "      <td>300.0</td>\n",
       "      <td>151.25</td>\n",
       "      <td>164.35</td>\n",
       "      <td>166.15</td>\n",
       "      <td>0.0</td>\n",
       "      <td>0.0</td>\n",
       "      <td>2</td>\n",
       "      <td>0</td>\n",
       "      <td>1.11731</td>\n",
       "      <td>True</td>\n",
       "      <td>REGULAR</td>\n",
       "      <td>USD</td>\n",
       "    </tr>\n",
       "  </tbody>\n",
       "</table>\n",
       "</div>"
      ],
      "text/plain": [
       "         contractSymbol             lastTradeDate  strike  lastPrice     bid  \\\n",
       "0   AAPL230915P00065000 2023-03-14 19:23:51+00:00    65.0       0.16    0.00   \n",
       "1   AAPL230915P00070000 2023-03-14 18:01:11+00:00    70.0       0.21    0.00   \n",
       "2   AAPL230915P00075000 2023-03-13 14:16:34+00:00    75.0       0.27    0.00   \n",
       "3   AAPL230915P00080000 2023-03-14 17:12:06+00:00    80.0       0.32    0.00   \n",
       "4   AAPL230915P00085000 2023-03-13 18:36:09+00:00    85.0       0.46    0.00   \n",
       "5   AAPL230915P00090000 2023-03-14 19:35:44+00:00    90.0       0.60    0.00   \n",
       "6   AAPL230915P00095000 2023-03-14 15:38:08+00:00    95.0       0.67    0.00   \n",
       "7   AAPL230915P00100000 2023-03-14 17:16:33+00:00   100.0       0.98    0.00   \n",
       "8   AAPL230915P00105000 2023-03-14 17:16:33+00:00   105.0       1.28    0.00   \n",
       "9   AAPL230915P00110000 2023-03-14 19:57:55+00:00   110.0       1.59    0.00   \n",
       "10  AAPL230915P00115000 2023-03-14 19:51:16+00:00   115.0       2.15    0.00   \n",
       "11  AAPL230915P00120000 2023-03-14 19:58:07+00:00   120.0       2.70    0.00   \n",
       "12  AAPL230915P00125000 2023-03-14 18:31:21+00:00   125.0       3.55    0.00   \n",
       "13  AAPL230915P00130000 2023-03-14 19:56:21+00:00   130.0       4.45    0.00   \n",
       "14  AAPL230915P00135000 2023-03-14 19:57:42+00:00   135.0       5.45    0.00   \n",
       "15  AAPL230915P00140000 2023-03-14 19:18:05+00:00   140.0       7.50    0.00   \n",
       "16  AAPL230915P00145000 2023-03-14 19:58:49+00:00   145.0       8.40    0.00   \n",
       "17  AAPL230915P00150000 2023-03-14 19:58:13+00:00   150.0      10.23    0.00   \n",
       "18  AAPL230915P00155000 2023-03-14 19:58:04+00:00   155.0      12.40    0.00   \n",
       "19  AAPL230915P00160000 2023-03-14 19:40:45+00:00   160.0      15.65    0.00   \n",
       "20  AAPL230915P00165000 2023-03-10 16:33:54+00:00   165.0      18.73    0.00   \n",
       "21  AAPL230915P00170000 2023-03-14 14:59:19+00:00   170.0      20.80    0.00   \n",
       "22  AAPL230915P00175000 2023-03-14 19:12:34+00:00   175.0      26.50    0.00   \n",
       "23  AAPL230915P00180000 2023-03-13 19:24:25+00:00   180.0      29.80    0.00   \n",
       "24  AAPL230915P00185000 2023-03-07 19:54:11+00:00   185.0      33.75    0.00   \n",
       "25  AAPL230915P00190000 2023-03-14 18:10:07+00:00   190.0      39.00    0.00   \n",
       "26  AAPL230915P00195000 2023-02-16 19:24:42+00:00   195.0      39.00    0.00   \n",
       "27  AAPL230915P00200000 2023-03-14 14:47:57+00:00   200.0      47.00    0.00   \n",
       "28  AAPL230915P00205000 2023-02-08 19:44:40+00:00   205.0      53.20   55.95   \n",
       "29  AAPL230915P00210000 2022-12-22 16:52:20+00:00   210.0      78.50   71.50   \n",
       "30  AAPL230915P00220000 2023-01-30 16:45:13+00:00   220.0      76.16   73.60   \n",
       "31  AAPL230915P00230000 2023-01-30 16:00:54+00:00   230.0      86.02   83.50   \n",
       "32  AAPL230915P00240000 2022-09-29 14:35:58+00:00   240.0      96.94   83.65   \n",
       "33  AAPL230915P00250000 2022-12-02 16:31:08+00:00   250.0     103.58  119.40   \n",
       "34  AAPL230915P00260000 2022-10-14 16:10:50+00:00   260.0     120.54  109.65   \n",
       "35  AAPL230915P00270000 2022-09-29 18:49:54+00:00   270.0     128.77  113.50   \n",
       "36  AAPL230915P00280000 2022-11-10 18:41:12+00:00   280.0     136.60  136.65   \n",
       "37  AAPL230915P00290000 2022-11-10 15:49:12+00:00   290.0     146.75  146.85   \n",
       "38  AAPL230915P00300000 2022-11-16 19:51:19+00:00   300.0     151.25  164.35   \n",
       "\n",
       "       ask  change  percentChange  volume  openInterest  impliedVolatility  \\\n",
       "0     0.00     0.0            0.0       2             0            0.25001   \n",
       "1     0.00     0.0            0.0     402             0            0.25001   \n",
       "2     0.00     0.0            0.0       1             0            0.25001   \n",
       "3     0.00     0.0            0.0      34             0            0.25001   \n",
       "4     0.00     0.0            0.0     127             0            0.12501   \n",
       "5     0.00     0.0            0.0       4             0            0.12501   \n",
       "6     0.00     0.0            0.0      13             0            0.12501   \n",
       "7     0.00     0.0            0.0      17             0            0.12501   \n",
       "8     0.00     0.0            0.0       1             0            0.12501   \n",
       "9     0.00     0.0            0.0      10             0            0.12501   \n",
       "10    0.00     0.0            0.0      71             0            0.06251   \n",
       "11    0.00     0.0            0.0     228             0            0.06251   \n",
       "12    0.00     0.0            0.0      52             0            0.06251   \n",
       "13    0.00     0.0            0.0     295             0            0.06251   \n",
       "14    0.00     0.0            0.0      48             0            0.03126   \n",
       "15    0.00     0.0            0.0     195             0            0.03126   \n",
       "16    0.00     0.0            0.0     918             0            0.01563   \n",
       "17    0.00     0.0            0.0     262             0            0.00782   \n",
       "18    0.00     0.0            0.0     130             0            0.00001   \n",
       "19    0.00     0.0            0.0     166             0            0.00001   \n",
       "20    0.00     0.0            0.0       9             0            0.00001   \n",
       "21    0.00     0.0            0.0       1             0            0.00001   \n",
       "22    0.00     0.0            0.0      11             0            0.00001   \n",
       "23    0.00     0.0            0.0       2             0            0.00001   \n",
       "24    0.00     0.0            0.0       9             0            0.00001   \n",
       "25    0.00     0.0            0.0      10             0            0.00001   \n",
       "26    0.00     0.0            0.0       2             0            0.00001   \n",
       "27    0.00     0.0            0.0       4             0            0.00001   \n",
       "28   58.15     0.0            0.0       1             0            0.45991   \n",
       "29   72.90     0.0            0.0       6             0            0.72388   \n",
       "30   74.35     0.0            0.0      66             0            0.54676   \n",
       "31   84.45     0.0            0.0       2             0            0.58442   \n",
       "32   85.00     0.0            0.0       2             1            0.00001   \n",
       "33  121.50     0.0            0.0       2             0            1.08829   \n",
       "34  111.00     0.0            0.0       2             0            0.54334   \n",
       "35  115.05     0.0            0.0     170             0            0.00001   \n",
       "36  138.95     0.0            0.0       2             0            0.85999   \n",
       "37  148.70     0.0            0.0       2             0            0.88690   \n",
       "38  166.15     0.0            0.0       2             0            1.11731   \n",
       "\n",
       "    inTheMoney contractSize currency  \n",
       "0        False      REGULAR      USD  \n",
       "1        False      REGULAR      USD  \n",
       "2        False      REGULAR      USD  \n",
       "3        False      REGULAR      USD  \n",
       "4        False      REGULAR      USD  \n",
       "5        False      REGULAR      USD  \n",
       "6        False      REGULAR      USD  \n",
       "7        False      REGULAR      USD  \n",
       "8        False      REGULAR      USD  \n",
       "9        False      REGULAR      USD  \n",
       "10       False      REGULAR      USD  \n",
       "11       False      REGULAR      USD  \n",
       "12       False      REGULAR      USD  \n",
       "13       False      REGULAR      USD  \n",
       "14       False      REGULAR      USD  \n",
       "15       False      REGULAR      USD  \n",
       "16       False      REGULAR      USD  \n",
       "17       False      REGULAR      USD  \n",
       "18        True      REGULAR      USD  \n",
       "19        True      REGULAR      USD  \n",
       "20        True      REGULAR      USD  \n",
       "21        True      REGULAR      USD  \n",
       "22        True      REGULAR      USD  \n",
       "23        True      REGULAR      USD  \n",
       "24        True      REGULAR      USD  \n",
       "25        True      REGULAR      USD  \n",
       "26        True      REGULAR      USD  \n",
       "27        True      REGULAR      USD  \n",
       "28        True      REGULAR      USD  \n",
       "29        True      REGULAR      USD  \n",
       "30        True      REGULAR      USD  \n",
       "31        True      REGULAR      USD  \n",
       "32        True      REGULAR      USD  \n",
       "33        True      REGULAR      USD  \n",
       "34        True      REGULAR      USD  \n",
       "35        True      REGULAR      USD  \n",
       "36        True      REGULAR      USD  \n",
       "37        True      REGULAR      USD  \n",
       "38        True      REGULAR      USD  "
      ]
     },
     "execution_count": 9,
     "metadata": {},
     "output_type": "execute_result"
    }
   ],
   "source": [
    "\"\"\" Put Options ~ 6 Months from now \"\"\"\n",
    "opt = aapl.option_chain(options_list[ indx_of_closest_to_6M])\n",
    "opt_puts = opt.puts\n",
    "opt_puts"
   ]
  },
  {
   "cell_type": "code",
   "execution_count": 10,
   "metadata": {
    "pycharm": {
     "name": "#%%\n"
    }
   },
   "outputs": [
    {
     "name": "stdout",
     "output_type": "stream",
     "text": [
      "S0 = 153.8 USD \n",
      "K  = 155.0 USD\n",
      "P0 = 11.2  USD <-- Asking Price for a put option with these parameters\n"
     ]
    },
    {
     "data": {
      "text/html": [
       "<div>\n",
       "<style scoped>\n",
       "    .dataframe tbody tr th:only-of-type {\n",
       "        vertical-align: middle;\n",
       "    }\n",
       "\n",
       "    .dataframe tbody tr th {\n",
       "        vertical-align: top;\n",
       "    }\n",
       "\n",
       "    .dataframe thead th {\n",
       "        text-align: right;\n",
       "    }\n",
       "</style>\n",
       "<table border=\"1\" class=\"dataframe\">\n",
       "  <thead>\n",
       "    <tr style=\"text-align: right;\">\n",
       "      <th></th>\n",
       "      <th>contractSymbol</th>\n",
       "      <th>lastTradeDate</th>\n",
       "      <th>strike</th>\n",
       "      <th>lastPrice</th>\n",
       "      <th>bid</th>\n",
       "      <th>ask</th>\n",
       "      <th>change</th>\n",
       "      <th>percentChange</th>\n",
       "      <th>volume</th>\n",
       "      <th>openInterest</th>\n",
       "      <th>impliedVolatility</th>\n",
       "      <th>inTheMoney</th>\n",
       "      <th>contractSize</th>\n",
       "      <th>currency</th>\n",
       "    </tr>\n",
       "  </thead>\n",
       "  <tbody>\n",
       "    <tr>\n",
       "      <th>18</th>\n",
       "      <td>AAPL230915P00155000</td>\n",
       "      <td>2023-03-14 19:58:04+00:00</td>\n",
       "      <td>155.0</td>\n",
       "      <td>12.4</td>\n",
       "      <td>0.0</td>\n",
       "      <td>0.0</td>\n",
       "      <td>0.0</td>\n",
       "      <td>0.0</td>\n",
       "      <td>130</td>\n",
       "      <td>0</td>\n",
       "      <td>0.00001</td>\n",
       "      <td>True</td>\n",
       "      <td>REGULAR</td>\n",
       "      <td>USD</td>\n",
       "    </tr>\n",
       "  </tbody>\n",
       "</table>\n",
       "</div>"
      ],
      "text/plain": [
       "         contractSymbol             lastTradeDate  strike  lastPrice  bid  \\\n",
       "18  AAPL230915P00155000 2023-03-14 19:58:04+00:00   155.0       12.4  0.0   \n",
       "\n",
       "    ask  change  percentChange  volume  openInterest  impliedVolatility  \\\n",
       "18  0.0     0.0            0.0     130             0            0.00001   \n",
       "\n",
       "    inTheMoney contractSize currency  \n",
       "18        True      REGULAR      USD  "
      ]
     },
     "execution_count": 10,
     "metadata": {},
     "output_type": "execute_result"
    }
   ],
   "source": [
    "\"\"\" From that list, puts ~ at the money \"\"\"\n",
    "_tempdf = opt_puts[opt_puts.inTheMoney == True]\n",
    "option_at_the_money = _tempdf.iloc[(_tempdf['strike'] - S0 ).abs().argsort()[:1]]\n",
    "\n",
    "K  = option_at_the_money.strike.iloc[0]\n",
    "P0 = option_at_the_money.lastPrice.iloc[0]\n",
    "\n",
    "\"\"\" Local Variables for consistency across calculations - Comment out for getting live data\"\"\"\n",
    "S0 = 153.8 #USD \n",
    "K  = 155.0 #USD\n",
    "P0 = 11.2  #USD\n",
    "\n",
    "\"\"\" Return K and P Used \"\"\"\n",
    "print(f\"S0 = {S0:.1f} USD \\nK  = {K} USD\")\n",
    "print(f\"P0 = {P0}  USD <-- Asking Price for a put option with these parameters\")\n",
    "\n",
    "option_at_the_money"
   ]
  },
  {
   "cell_type": "markdown",
   "metadata": {
    "collapsed": false
   },
   "source": [
    "# Question 2\n",
    "\n",
    "-------------------------------------------------------------------------------------------------------------------------------\n",
    "## Black Sholes Analytical Solution"
   ]
  },
  {
   "cell_type": "code",
   "execution_count": 11,
   "metadata": {
    "pycharm": {
     "name": "#%%\n"
    }
   },
   "outputs": [],
   "source": [
    "@njit\n",
    "def bs_put(S, K, T, r, sigma):\n",
    "    d1 = (log(S/K)+(r+sigma**2/2.)*T)/(sigma*sqrt(T))\n",
    "    d2 = d1 - sigma*sqrt(T)\n",
    "\n",
    "    \"\"\" negative in front - negative in front of d1 \"\"\"\n",
    "    D = - (1.0 + erf(-d1 / sqrt(2.0))) / 2.0\n",
    "    V = S*D + K*exp(-r*T)* (1.0 + erf(-d2 / sqrt(2.0))) / 2.0\n",
    "\n",
    "    return V"
   ]
  },
  {
   "cell_type": "code",
   "execution_count": 12,
   "metadata": {
    "collapsed": false,
    "pycharm": {
     "name": "#%%\n"
    }
   },
   "outputs": [
    {
     "name": "stdout",
     "output_type": "stream",
     "text": [
      "S0, K, T, R, SIGMA = 153.8, 155.0, 0.524, 0.0502, 0.3597\n",
      "------ BS Put Evaluation ------\n",
      "Option Value with Black-Scholes Formula = 14.40981\n"
     ]
    }
   ],
   "source": [
    "print(f'S0, K, T, R, SIGMA = {S0:.1f}, {K:.1f}, {T:.3f}, {R:.4f}, {SIGMA:.4f}')\n",
    "black_sholes_put_value = bs_put(S0, K, T, R, SIGMA)\n",
    "print(\"------ BS Put Evaluation ------\")\n",
    "print(f'Option Value with Black-Scholes Formula = {black_sholes_put_value:.5f}')"
   ]
  },
  {
   "cell_type": "markdown",
   "metadata": {
    "collapsed": false
   },
   "source": [
    "## Binomial Tree - Option Valuation"
   ]
  },
  {
   "cell_type": "code",
   "execution_count": 13,
   "metadata": {
    "collapsed": false,
    "pycharm": {
     "name": "#%%\n"
    }
   },
   "outputs": [],
   "source": [
    "@njit\n",
    "def option_valuation_bt(S0, K, T, r, sigma, N, type=\"Call\", american=False, print_tree=False):\n",
    "    dt = T / N\n",
    "    u = np.exp(sigma * np.sqrt(dt)) \n",
    "    d = np.exp(-sigma * np.sqrt(dt)) \n",
    "    p = (np.exp(r*dt) - d)/(u - d) \n",
    "    \"\"\" ----- Build the Tree ----- \"\"\"\n",
    "    tree = np.zeros((N + 1, N + 1))\n",
    "    # Iterate over the lower triangle\n",
    "    for i in np.arange(N + 1): # iterate over rows\n",
    "        for j in np.arange(i + 1): # iterate over columns\n",
    "            tree[i, j] = S0 * d ** (i-j) * u ** (j) \n",
    "    if print_tree: print(np.rot90(tree)) \n",
    "\n",
    "    \"\"\" ----- Calculate the Option Value ----- \"\"\"\n",
    "    columns = tree.shape[1]\n",
    "    rows = tree.shape[0]\n",
    "\n",
    "    \"\"\" Back Propagation: we start in last row of the matrix \"\"\"\n",
    "\n",
    "    # Add the payoff function in the last row\n",
    "    for c in np.arange(columns):\n",
    "        _S = tree[rows-1, c] # value in the matrix\n",
    "        if type == \"C\": tree[rows-1, c] = max(0, _S - K) \n",
    "        else: tree[rows-1, c] = max(0, K- _S) \n",
    "    # print( tree.astype(int) )\n",
    "\n",
    "    # For all other rows , we need to combine from previous rows\n",
    "    # We walk backwards , from the last row to the first row\n",
    "    for i in np.arange(rows-1)[::-1]:\n",
    "        for j in np.arange(i + 1):\n",
    "            down = tree[i+1, j]\n",
    "            up = tree[i + 1, j + 1]\n",
    "            if type == \"Call\":\n",
    "                if american:    tree[i , j ] = max(tree[i , j ]-K, (np.exp(-r*dt)) * (p * up + (1 - p) * down)) \n",
    "                else:           tree[i , j ] = (np.exp(-r*dt)) * (p * up + (1 - p) * down) \n",
    "            else:\n",
    "                if american:    tree[i , j ] = max(K-tree[i , j ], (np.exp(-r*dt)) * (p * up + (1 - p) * down)) \n",
    "                else:           tree[i , j ] = (np.exp(-r*dt)) * (p * up + (1 - p) * down) \n",
    "    if print_tree: print(np.rot90(tree))\n",
    "    V = tree[0,0]\n",
    "    \"\"\" Greeks \"\"\"\n",
    "    D = (tree[1, 1] - tree[1, 0])/(S0 * (u - d))\n",
    "    return V"
   ]
  },
  {
   "cell_type": "code",
   "execution_count": 14,
   "metadata": {
    "collapsed": false,
    "pycharm": {
     "name": "#%%\n"
    }
   },
   "outputs": [
    {
     "name": "stdout",
     "output_type": "stream",
     "text": [
      "Option Value with N(1000) steps = 14.80513\n"
     ]
    }
   ],
   "source": [
    "N = 1_000 # print(S0, K, T, R, SIGMA)\n",
    "P_bt = option_valuation_bt(S0=S0, K=K, T=T, r=R, sigma=SIGMA, N=N, type=\"Put\", american=True)\n",
    "print(f'Option Value with N({N}) steps = {P_bt:.5f}')\n",
    "# print(f'Delta with N({N}) steps        = {Delta_bt:.5f}')"
   ]
  },
  {
   "cell_type": "markdown",
   "metadata": {
    "collapsed": false
   },
   "source": [
    "## Calculate/Plot Option Value Convergence with N (steps)"
   ]
  },
  {
   "cell_type": "code",
   "execution_count": 15,
   "metadata": {
    "collapsed": false,
    "pycharm": {
     "name": "#%%\n"
    }
   },
   "outputs": [
    {
     "data": {
      "application/vnd.jupyter.widget-view+json": {
       "model_id": "8ebd268c9219420987817b89b110d58d",
       "version_major": 2,
       "version_minor": 0
      },
      "text/plain": [
       "  0%|          | 0/101 [00:00<?, ?it/s]"
      ]
     },
     "metadata": {},
     "output_type": "display_data"
    }
   ],
   "source": [
    "NN = 10_000 ;   size = 100\n",
    "values = np.zeros((size, 3))\n",
    "\n",
    "for n in tqdm(np.append(np.logspace(1, np.log10(NN), size, base=10, dtype=int), 50)): #  _starting_n, NN)):\n",
    "    # print(n)\n",
    "    _st = perf_counter()\n",
    "    P_bt = option_valuation_bt(S0=S0, K=K, T=T, r=R, sigma=SIGMA, N=n, type=\"Put\")\n",
    "    values[size-1] = n, P_bt, perf_counter() - _st\n",
    "    size -= 1\n",
    "values = values[::-1]"
   ]
  },
  {
   "cell_type": "code",
   "execution_count": 16,
   "metadata": {
    "collapsed": false,
    "pycharm": {
     "name": "#%%\n"
    }
   },
   "outputs": [
    {
     "data": {
      "text/html": [
       "<div>\n",
       "<style scoped>\n",
       "    .dataframe tbody tr th:only-of-type {\n",
       "        vertical-align: middle;\n",
       "    }\n",
       "\n",
       "    .dataframe tbody tr th {\n",
       "        vertical-align: top;\n",
       "    }\n",
       "\n",
       "    .dataframe thead th {\n",
       "        text-align: right;\n",
       "    }\n",
       "</style>\n",
       "<table border=\"1\" class=\"dataframe\">\n",
       "  <thead>\n",
       "    <tr style=\"text-align: right;\">\n",
       "      <th></th>\n",
       "      <th>Binary Tree</th>\n",
       "      <th>Execution Time</th>\n",
       "      <th>Black Scholes</th>\n",
       "      <th>|Difference|</th>\n",
       "    </tr>\n",
       "  </thead>\n",
       "  <tbody>\n",
       "    <tr>\n",
       "      <th>10</th>\n",
       "      <td>14.15682</td>\n",
       "      <td>1.96670e-05</td>\n",
       "      <td>14.40981</td>\n",
       "      <td>0.25299</td>\n",
       "    </tr>\n",
       "    <tr>\n",
       "      <th>11</th>\n",
       "      <td>14.75431</td>\n",
       "      <td>6.00002e-06</td>\n",
       "      <td>14.40981</td>\n",
       "      <td>0.34450</td>\n",
       "    </tr>\n",
       "    <tr>\n",
       "      <th>12</th>\n",
       "      <td>14.20897</td>\n",
       "      <td>4.54098e-06</td>\n",
       "      <td>14.40981</td>\n",
       "      <td>0.20084</td>\n",
       "    </tr>\n",
       "    <tr>\n",
       "      <th>13</th>\n",
       "      <td>14.69986</td>\n",
       "      <td>4.45801e-06</td>\n",
       "      <td>14.40981</td>\n",
       "      <td>0.29004</td>\n",
       "    </tr>\n",
       "    <tr>\n",
       "      <th>14</th>\n",
       "      <td>14.24558</td>\n",
       "      <td>4.41700e-06</td>\n",
       "      <td>14.40981</td>\n",
       "      <td>0.16423</td>\n",
       "    </tr>\n",
       "    <tr>\n",
       "      <th>...</th>\n",
       "      <td>...</td>\n",
       "      <td>...</td>\n",
       "      <td>...</td>\n",
       "      <td>...</td>\n",
       "    </tr>\n",
       "    <tr>\n",
       "      <th>7564</th>\n",
       "      <td>14.41015</td>\n",
       "      <td>3.83482e-01</td>\n",
       "      <td>14.40981</td>\n",
       "      <td>0.00034</td>\n",
       "    </tr>\n",
       "    <tr>\n",
       "      <th>8111</th>\n",
       "      <td>14.40983</td>\n",
       "      <td>4.47305e-01</td>\n",
       "      <td>14.40981</td>\n",
       "      <td>0.00002</td>\n",
       "    </tr>\n",
       "    <tr>\n",
       "      <th>8697</th>\n",
       "      <td>14.40970</td>\n",
       "      <td>5.05127e-01</td>\n",
       "      <td>14.40981</td>\n",
       "      <td>0.00011</td>\n",
       "    </tr>\n",
       "    <tr>\n",
       "      <th>9326</th>\n",
       "      <td>14.41021</td>\n",
       "      <td>6.32474e-01</td>\n",
       "      <td>14.40981</td>\n",
       "      <td>0.00040</td>\n",
       "    </tr>\n",
       "    <tr>\n",
       "      <th>10000</th>\n",
       "      <td>14.41020</td>\n",
       "      <td>8.37724e-01</td>\n",
       "      <td>14.40981</td>\n",
       "      <td>0.00038</td>\n",
       "    </tr>\n",
       "  </tbody>\n",
       "</table>\n",
       "<p>100 rows × 4 columns</p>\n",
       "</div>"
      ],
      "text/plain": [
       "       Binary Tree  Execution Time  Black Scholes  |Difference|\n",
       "10        14.15682     1.96670e-05       14.40981       0.25299\n",
       "11        14.75431     6.00002e-06       14.40981       0.34450\n",
       "12        14.20897     4.54098e-06       14.40981       0.20084\n",
       "13        14.69986     4.45801e-06       14.40981       0.29004\n",
       "14        14.24558     4.41700e-06       14.40981       0.16423\n",
       "...            ...             ...            ...           ...\n",
       "7564      14.41015     3.83482e-01       14.40981       0.00034\n",
       "8111      14.40983     4.47305e-01       14.40981       0.00002\n",
       "8697      14.40970     5.05127e-01       14.40981       0.00011\n",
       "9326      14.41021     6.32474e-01       14.40981       0.00040\n",
       "10000     14.41020     8.37724e-01       14.40981       0.00038\n",
       "\n",
       "[100 rows x 4 columns]"
      ]
     },
     "execution_count": 16,
     "metadata": {},
     "output_type": "execute_result"
    },
    {
     "data": {
      "image/png": "[encoded data removed]",
      "text/plain": [
       "<Figure size 1440x288 with 2 Axes>"
      ]
     },
     "metadata": {
      "needs_background": "light"
     },
     "output_type": "display_data"
    }
   ],
   "source": [
    "\n",
    "_results_convergence_df = pd.DataFrame(values[:, 1:], columns=['Binary Tree', 'Execution Time'] , index=values[:, 0].astype(int)).sort_index()\n",
    "_results_convergence_df[\"Black Scholes\"] = black_sholes_put_value\n",
    "_results_convergence_df[\"|Difference|\"] = abs(_results_convergence_df[['Binary Tree']] - black_sholes_put_value)\n",
    "\n",
    "ax = _results_convergence_df[['Binary Tree', 'Black Scholes', 'Execution Time']].plot(figsize=(20,4), xlabel='N (steps)', ylabel='Option Value (USD)', mark_right=True,\n",
    "                              title='Accuracy of Binomial Trees over number of Nodes - European Put', grid=True, logx=True,\n",
    "                              secondary_y='Execution Time' )\n",
    "ax.right_ax.set_ylabel('Sec', color='tab:purple')\n",
    "_results_convergence_df"
   ]
  },
  {
   "cell_type": "markdown",
   "metadata": {
    "collapsed": false
   },
   "source": [
    "# Question 3\n",
    "\n",
    "----------------------------------------------------------------------------------------------------------------"
   ]
  },
  {
   "cell_type": "markdown",
   "metadata": {
    "collapsed": false
   },
   "source": [
    "## (a) Print 3 step Binomial Tree - American and European"
   ]
  },
  {
   "cell_type": "code",
   "execution_count": 17,
   "metadata": {
    "collapsed": false,
    "pycharm": {
     "name": "#%%\n"
    }
   },
   "outputs": [
    {
     "name": "stdout",
     "output_type": "stream",
     "text": [
      " American 3-step Binomial Tree\n",
      "[[  0.        0.        0.      241.4204 ]\n",
      " [  0.        0.      207.73105 178.74293]\n",
      " [  0.      178.74293 153.8     132.33776]\n",
      " [153.8     132.33776 113.87051  97.98029]]\n",
      "[[ 0.       0.       0.       0.     ]\n",
      " [ 0.       0.       0.       0.     ]\n",
      " [ 0.       5.75407 11.41929 22.66224]\n",
      " [16.05188 26.29033 41.12949 57.01971]]\n",
      "\n",
      " European 3-step Binomial Tree\n",
      "[[  0.        0.        0.      241.4204 ]\n",
      " [  0.        0.      207.73105 178.74293]\n",
      " [  0.      178.74293 153.8     132.33776]\n",
      " [153.8     132.33776 113.87051  97.98029]]\n",
      "[[ 0.       0.       0.       0.     ]\n",
      " [ 0.       0.       0.       0.     ]\n",
      " [ 0.       5.75407 11.41929 22.66224]\n",
      " [15.70844 25.60876 39.77688 57.01971]]\n"
     ]
    }
   ],
   "source": [
    "N = 3\n",
    "print(\" American 3-step Binomial Tree\")\n",
    "_ = option_valuation_bt(S0=S0, K=K, T=T, r=R, sigma=SIGMA, N=N, type=\"Put\", american=True,  print_tree=True)\n",
    "\n",
    "print(\"\\n European 3-step Binomial Tree\")\n",
    "_ = option_valuation_bt(S0=S0, K=K, T=T, r=R, sigma=SIGMA, N=N, type=\"Put\", american=False,  print_tree=True)"
   ]
  },
  {
   "cell_type": "markdown",
   "metadata": {
    "collapsed": false
   },
   "source": [
    "## (a) Plot Relative to Time - American vs European"
   ]
  },
  {
   "cell_type": "code",
   "execution_count": 18,
   "metadata": {
    "collapsed": false,
    "pycharm": {
     "name": "#%%\n"
    }
   },
   "outputs": [
    {
     "data": {
      "application/vnd.jupyter.widget-view+json": {
       "model_id": "fa82ffb110bb49578ca437f0c8715a48",
       "version_major": 2,
       "version_minor": 0
      },
      "text/plain": [
       "  0%|          | 0/100 [00:00<?, ?it/s]"
      ]
     },
     "metadata": {},
     "output_type": "display_data"
    },
    {
     "data": {
      "image/png": "[encoded data removed]",
      "text/plain": [
       "<Figure size 1440x288 with 1 Axes>"
      ]
     },
     "metadata": {
      "needs_background": "light"
     },
     "output_type": "display_data"
    }
   ],
   "source": [
    "N = 1_000   ;   size = 100  ;   values = np.zeros((size, 3))\n",
    "for _T in tqdm(np.linspace(1/252, 3, num=size)):\n",
    "    _P_bt_european = option_valuation_bt(S0=S0, K=K, T=_T, r=R, sigma=SIGMA, N=N, type=\"Put\")\n",
    "    _P_bt_american = option_valuation_bt(S0=S0, K=K, T=_T, r=R, sigma=SIGMA, N=N, type=\"Put\", american=True)\n",
    "    values[size-1] = [_T, _P_bt_european, _P_bt_american]\n",
    "    size -= 1\n",
    "\n",
    "_results_df = pd.DataFrame(values[:, 1:], columns=['European Put', 'American Put'] , index=values[:, 0]).sort_index()\n",
    "_results_df\n",
    "\n",
    "axs = _results_df[['European Put', 'American Put']].plot(figsize=(20,4), xlabel='T (Years) - Time to Expiration', ylabel='Option Value (USD)',\n",
    "                              title='European vs American Put Over Time, with fixed R, K', grid=True)\n",
    "axs.axvline(T, color='r', linestyle='-', alpha=.5, label='Expiration Date (T)') ;   axs.legend() ; plt.show()"
   ]
  },
  {
   "cell_type": "markdown",
   "metadata": {
    "collapsed": false
   },
   "source": [
    "## (b) Plot Option Value Relative to N - American vs European"
   ]
  },
  {
   "cell_type": "code",
   "execution_count": 19,
   "metadata": {
    "collapsed": false,
    "pycharm": {
     "name": "#%%\n"
    }
   },
   "outputs": [
    {
     "data": {
      "application/vnd.jupyter.widget-view+json": {
       "model_id": "5cc8fb03596c41d2afd1fdf742fb7185",
       "version_major": 2,
       "version_minor": 0
      },
      "text/plain": [
       "  0%|          | 0/200 [00:00<?, ?it/s]"
      ]
     },
     "metadata": {},
     "output_type": "display_data"
    },
    {
     "name": "stdout",
     "output_type": "stream",
     "text": [
      "American vs European put\n",
      "Rel Difference: 0.39\n",
      " %  Difference: 2.72 %\n"
     ]
    },
    {
     "data": {
      "text/plain": [
       "European Put    14.41020\n",
       "American Put    14.80154\n",
       "Difference       0.39135\n",
       "Name: 10000.0, dtype: float64"
      ]
     },
     "execution_count": 19,
     "metadata": {},
     "output_type": "execute_result"
    },
    {
     "data": {
      "image/png": "[encoded data removed]",
      "text/plain": [
       "<Figure size 1440x576 with 2 Axes>"
      ]
     },
     "metadata": {
      "needs_background": "light"
     },
     "output_type": "display_data"
    }
   ],
   "source": [
    "size = 200  ;   values = np.zeros((size, 3))\n",
    "for n in tqdm(np.logspace(1, 4, num=size, base=10, dtype=int)):\n",
    "    _P_bt_european = option_valuation_bt(S0=S0, K=K, T=T, r=R, sigma=SIGMA, N=n, type=\"Put\")\n",
    "    _P_bt_american = option_valuation_bt(S0=S0, K=K, T=T, r=R, sigma=SIGMA, N=n, type=\"Put\", american=True)\n",
    "    values[size-1] = [n, _P_bt_european, _P_bt_american]\n",
    "    size -= 1\n",
    "\n",
    "\"\"\" Plot \"\"\"\n",
    "_results_df = pd.DataFrame(values[:, 1:], columns=['European Put', 'American Put'] , index=values[:, 0]).sort_index()\n",
    "_results_df[\"Difference\"] = _results_df[['American Put']].to_numpy() - _results_df[['European Put']].to_numpy()\n",
    "\n",
    "fig, axs = plt.subplots(2, sharex=True)\n",
    "\n",
    "_results_df[['European Put', 'American Put']].plot(figsize=(20,8), xlabel='N', ylabel='Option Value (USD)', ax=axs[0],\n",
    "                              title='American vs European Put over Time', grid=True, logx=True)\n",
    "_results_df[[\"Difference\"]].plot(figsize=(20,8), xlabel='N - Number of Steps', ylabel='Difference with BS (USD)',  ax=axs[1],\n",
    "                              title='Difference between European and American', grid=True, logx=True, logy=False)\n",
    "print('American vs European put')\n",
    "print(f'Rel Difference: {(_results_df.iloc[-1,1] - _results_df.iloc[-1,0]):.2f}')\n",
    "print(f' %  Difference: {(_results_df.iloc[-1,1] - _results_df.iloc[-1,0]) / _results_df.iloc[-1,0] *100:.2f} %')\n",
    "_results_df.iloc[-1]"
   ]
  },
  {
   "cell_type": "markdown",
   "metadata": {
    "collapsed": false
   },
   "source": [
    "## (c) Effect of Interest Rates to American and European Puts"
   ]
  },
  {
   "cell_type": "code",
   "execution_count": 20,
   "metadata": {
    "collapsed": false,
    "pycharm": {
     "name": "#%%\n"
    }
   },
   "outputs": [
    {
     "name": "stdout",
     "output_type": "stream",
     "text": [
      "Annualized Interest Rate: 5.148%\n"
     ]
    },
    {
     "data": {
      "application/vnd.jupyter.widget-view+json": {
       "model_id": "9e63ed6e06734a13a7494aa293751991",
       "version_major": 2,
       "version_minor": 0
      },
      "text/plain": [
       "  0%|          | 0/100 [00:00<?, ?it/s]"
      ]
     },
     "metadata": {},
     "output_type": "display_data"
    },
    {
     "data": {
      "image/png": "[encoded data removed]",
      "text/plain": [
       "<Figure size 1440x288 with 1 Axes>"
      ]
     },
     "metadata": {
      "needs_background": "light"
     },
     "output_type": "display_data"
    }
   ],
   "source": [
    "print(f'Annualized Interest Rate: {r*100:.3f}%')\n",
    "N = 100\n",
    "size = 100  ;   values = np.zeros((size, 3))\n",
    "for _r in tqdm(np.linspace(-r/2, r*2, num=size)): \n",
    "    _r = np.log(1+ _r) # From annual to CCIR\n",
    "    _V_bt_european = option_valuation_bt(S0=S0, K=K, T=T, r=_r, sigma=SIGMA, N=N, type=\"P\")\n",
    "    _V_bt_american = option_valuation_bt(S0=S0, K=K, T=T, r=_r, sigma=SIGMA, N=N, type=\"P\", american=True)\n",
    "    values[size-1] = [_r, _V_bt_european, _V_bt_american]\n",
    "    size -= 1\n",
    "\n",
    "\"\"\" Plot \"\"\"\n",
    "_results_df = pd.DataFrame(values[:, 1:], columns=['European Put', 'American Put'] , index=values[:, 0]).sort_index()\n",
    "axs = _results_df[['European Put', 'American Put']].plot(figsize=(20,4), xlabel='Annualized Interest Rate (r)', ylabel='Option Value (USD)',title='European vs American Put for different Interest Rates', grid=True)\n",
    "axs.axvline(r, color='r', linestyle='-', alpha=.5, label=f'Current Interest Rate {r:.4f}') ;   axs.legend() ; plt.show()"
   ]
  },
  {
   "cell_type": "markdown",
   "metadata": {
    "collapsed": false
   },
   "source": [
    "# Question 4\n",
    "\n",
    "---------------------------------------------------------------------------------------------------------------------------------\n",
    "## Calculate Implied Volatility - Using Newton's Method"
   ]
  },
  {
   "cell_type": "code",
   "execution_count": 21,
   "metadata": {
    "collapsed": false,
    "pycharm": {
     "name": "#%%\n"
    }
   },
   "outputs": [
    {
     "name": "stdout",
     "output_type": "stream",
     "text": [
      "-------- Number of nodes for estimating American Option Value --------\n",
      "[ 1072  1149  1232  1321  1417  1519  1629  1747  1873  2009  2154  2310\n",
      "  2477  2656  2848  3053  3274  3511  3764  4037  4328  4641  4977  5336\n",
      "  5722  6135  6579  7054  7564  8111  8697  9326 10000]\n"
     ]
    }
   ],
   "source": [
    "\"\"\" Choice Number of Steps \"\"\"\n",
    "print('-------- Number of nodes for estimating American Option Value --------')\n",
    "print(_results_convergence_df[_results_convergence_df.index > 1000].index.values)"
   ]
  },
  {
   "cell_type": "code",
   "execution_count": 22,
   "metadata": {
    "collapsed": false,
    "pycharm": {
     "name": "#%%\n"
    }
   },
   "outputs": [
    {
     "data": {
      "text/plain": [
       "0.00026372662694384985"
      ]
     },
     "execution_count": 22,
     "metadata": {},
     "output_type": "execute_result"
    }
   ],
   "source": [
    "N = 5336\n",
    "Approximation_Error = abs(_results_convergence_df[_results_convergence_df.index == N][[\"|Difference|\"]].values[0,0])\n",
    "Approximation_Error"
   ]
  },
  {
   "cell_type": "markdown",
   "metadata": {},
   "source": [
    "## Newtons Mehtod"
   ]
  },
  {
   "cell_type": "code",
   "execution_count": 23,
   "metadata": {
    "collapsed": false,
    "pycharm": {
     "name": "#%%\n"
    }
   },
   "outputs": [
    {
     "name": "stdout",
     "output_type": "stream",
     "text": [
      "Initial s0 = 0.35968\n",
      "Correct Option Value = 11.2\n",
      "difference in P0 estimation = 3.56027\n",
      "---------------- iteration 1 --------------------\n",
      "s0 = 0.27761\n",
      "difference in P0 estimation = 0.00002\n",
      "Value: 11.20002\n",
      ">>Time to Calculate = 0.3415719\n"
     ]
    }
   ],
   "source": [
    "it_max = 30         # Maximum Iterations to be performed for finding the best approximation for IV\n",
    "ds = 0.01           # Step in sigma to make to estimate the slope\n",
    "s0 = SIGMA          # Set initial guess to HV\n",
    "print(f\"Initial s0 = {s0:.5f}\\nCorrect Option Value = {P0}\")\n",
    "\n",
    "_V  = option_valuation_bt(S0=S0, K=K, T=T, r=r, sigma=s0, N=N, type=\"Put\", american=True) \n",
    "fx  = abs(P0 - _V) ;   _iv_convergence = np.array([[s0, fx]])\n",
    "print(f\"difference in P0 estimation = {fx:.5f}\")\n",
    "\n",
    "_st = perf_counter() ; it = 1\n",
    "while it < 30:\n",
    "    \"\"\" step 1: calculate new Option Values with bumped volatility \"\"\"\n",
    "    f_x_plus_ds   = abs(P0 - option_valuation_bt(S0=S0, K=K, T=T, r=r, sigma=s0+ds, N=N, type=\"Put\", american=True))\n",
    "    print(f'---------------- iteration {it} --------------------')\n",
    "\n",
    "    \"\"\" step 2: Calculate slope (a) based on second derivative finate difference \"\"\"\n",
    "    fprime  = (f_x_plus_ds - fx) / ds # First Finate Derivative Forward in space\n",
    "    s0 = s0 - fx / fprime             # Frist order Newtons Method\n",
    "\n",
    "    print(f's0 = {s0:.5f}')\n",
    "    _V = option_valuation_bt(S0=S0, K=K, T=T, r=r, sigma=s0, N=N, type=\"Put\", american=True)\n",
    "    fx = abs(P0 - _V) ; print(f\"difference in P0 estimation = {fx:.5f}\")\n",
    "    _iv_convergence = np.append(_iv_convergence, [[s0, fx]], axis=0)\n",
    "    print(f'Value: {_V:.5f}')\n",
    "\n",
    "    if fx < Approximation_Error : break # Or 1e-6\n",
    "    it += 1\n",
    "    \n",
    "print(f\">>Time to Calculate = {perf_counter() - _st:.7f}\")\n",
    "IV = s0"
   ]
  },
  {
   "cell_type": "code",
   "execution_count": 24,
   "metadata": {
    "collapsed": false,
    "pycharm": {
     "name": "#%%\n"
    }
   },
   "outputs": [
    {
     "data": {
      "image/png": "[encoded data removed]",
      "text/plain": [
       "<Figure size 1440x504 with 1 Axes>"
      ]
     },
     "metadata": {
      "needs_background": "light"
     },
     "output_type": "display_data"
    },
    {
     "name": "stdout",
     "output_type": "stream",
     "text": [
      "Implied Volatility = 0.27761  vs  Historical Volatility = 0.35968    \n",
      "Difference = -22.818 %  \n",
      ">>> Iterations = 1\n"
     ]
    },
    {
     "data": {
      "text/html": [
       "<div>\n",
       "<style scoped>\n",
       "    .dataframe tbody tr th:only-of-type {\n",
       "        vertical-align: middle;\n",
       "    }\n",
       "\n",
       "    .dataframe tbody tr th {\n",
       "        vertical-align: top;\n",
       "    }\n",
       "\n",
       "    .dataframe thead th {\n",
       "        text-align: right;\n",
       "    }\n",
       "</style>\n",
       "<table border=\"1\" class=\"dataframe\">\n",
       "  <thead>\n",
       "    <tr style=\"text-align: right;\">\n",
       "      <th></th>\n",
       "      <th>IV</th>\n",
       "      <th>abs(Market Price - Estimation)</th>\n",
       "    </tr>\n",
       "    <tr>\n",
       "      <th>Iteration</th>\n",
       "      <th></th>\n",
       "      <th></th>\n",
       "    </tr>\n",
       "  </thead>\n",
       "  <tbody>\n",
       "    <tr>\n",
       "      <th>1</th>\n",
       "      <td>0.35968</td>\n",
       "      <td>3.56027</td>\n",
       "    </tr>\n",
       "    <tr>\n",
       "      <th>2</th>\n",
       "      <td>0.27761</td>\n",
       "      <td>0.00002</td>\n",
       "    </tr>\n",
       "  </tbody>\n",
       "</table>\n",
       "</div>"
      ],
      "text/plain": [
       "                IV  abs(Market Price - Estimation)\n",
       "Iteration                                         \n",
       "1          0.35968                         3.56027\n",
       "2          0.27761                         0.00002"
      ]
     },
     "execution_count": 24,
     "metadata": {},
     "output_type": "execute_result"
    }
   ],
   "source": [
    "s = np.linspace(1e-5,2*SIGMA,101)\n",
    "v = [abs(P0 - option_valuation_bt(S0=S0, K=K, T=T, r=r, sigma=_, N=100, type=\"Put\", american=True)) for _ in s]\n",
    "plt.plot(s,v) ; plt.xlabel(r'$\\sigma$ - Volatility') ; plt.ylabel(r'$f(\\sigma)=|P_0 - V_{Put}(\\sigma)|$') ; plt.title(\"Function to Minimze for finding sigma - Using Newton's Method\")\n",
    "plt.plot(_iv_convergence[:,0], _iv_convergence[:,1], marker='o')\n",
    "plt.axvline(SIGMA, color='r', linestyle='-', alpha=.5)\n",
    "plt.axvline(IV, color='g', linestyle='-', alpha=.5)\n",
    "plt.legend([r'$f(\\sigma)=|P_0 - V_{Put}(\\sigma)|$', \"Newton's Method Path\", f'HV({TRAIDING_DAYS}days) = {SIGMA:.4f}', f'IV = {IV:.4f}'])\n",
    "plt.show()\n",
    "\n",
    "print(f'Implied Volatility = {IV:.5f}  vs  '\n",
    "      f'Historical Volatility = {SIGMA:.5f}    \\n'\n",
    "      f'Difference = {(IV - SIGMA)/SIGMA * 100 :.3f} %  \\n'\n",
    "      f'>>> Iterations = {it}')\n",
    "\n",
    "\"\"\" Implied volatility Optimization History \"\"\"\n",
    "_df = pd.DataFrame(_iv_convergence, columns=['IV', 'abs(Market Price - Estimation)'], index=range(1,_iv_convergence.shape[0]+1)) ; _df.index.name = 'Iteration'\n",
    "_df"
   ]
  },
  {
   "cell_type": "code",
   "execution_count": null,
   "metadata": {
    "collapsed": false,
    "pycharm": {
     "name": "#%%\n"
    }
   },
   "outputs": [],
   "source": []
  }
 ],
 "metadata": {
  "interpreter": {
   "hash": "e6bce1ea51a34d90ba6fee2abe92acbdb2c915cb3d6eeec38ec312954e42946a"
  },
  "kernelspec": {
   "display_name": "Python 3.10.2 ('QF')",
   "language": "python",
   "name": "python3"
  },
  "language_info": {
   "codemirror_mode": {
    "name": "ipython",
    "version": 3
   },
   "file_extension": ".py",
   "mimetype": "text/x-python",
   "name": "python",
   "nbconvert_exporter": "python",
   "pygments_lexer": "ipython3",
   "version": "3.10.2"
  }
 },
 "nbformat": 4,
 "nbformat_minor": 1
}
