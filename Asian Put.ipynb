{
 "cells": [
  {
   "cell_type": "code",
   "execution_count": 191,
   "metadata": {},
   "outputs": [],
   "source": [
    "import numpy as np\n",
    "import pandas as pd\n",
    "from numba import njit, float64\n",
    "\n",
    "from math import ceil\n",
    "from scipy.stats import norm\n",
    "import scipy.stats as stats\n",
    "from scipy.stats import qmc\n",
    "\n",
    "from matplotlib import pyplot as plt\n",
    "from tqdm.notebook import tqdm, trange\n",
    "\n",
    "plt.rcParams[\"figure.figsize\"] = (20, 7)\n",
    "plt.rcParams[\"font.size\"] = 13\n",
    "plt.style.use('bmh')\n",
    "\n",
    "import json"
   ]
  },
  {
   "cell_type": "markdown",
   "metadata": {},
   "source": [
    "# Question 4: Pricing 2 step Asian Options using Monte Carlo\n",
    "Write a Monte Carlo simulation program that generates n = 106 samples1\n",
    "(under the probability measure Q) of the payoff CT . The program should produce a Monte\n",
    "Carlo estimate  ̄C0 of C0, the standard error in that estimate, and a 95% confidence interval\n",
    "based on that standard error. Compare the result to the theoretical value you found in the\n",
    "previous question"
   ]
  },
  {
   "cell_type": "code",
   "execution_count": 192,
   "metadata": {},
   "outputs": [
    {
     "name": "stdout",
     "output_type": "stream",
     "text": [
      "CI95 = 1.9600\n"
     ]
    }
   ],
   "source": [
    "# Parameters\n",
    "T       = 10 # Years\n",
    "r       = -0.0027 #np.log(1-0.0027)\n",
    "sigma   = 0.21\n",
    "S       = K = 715\n",
    "\n",
    "CI95 = norm.ppf(1-(.05/2)) ; print(f'CI95 = {CI95:.4f}')"
   ]
  },
  {
   "cell_type": "markdown",
   "metadata": {},
   "source": [
    "**Analytical Solutions to calculate the Discounted Expected Payoff of 2 step Asian Put (Geometric Mean). Where:**\n",
    "$$\n",
    "C_0 = e^{-rT}E^{Q}[(K - S_{0}exp\\{aT+bdW_T\\})^{+}]\n",
    "$$\n",
    "\n",
    "**Under Risk Neutral Probability**\n",
    "$$\n",
    "\\begin{align*}\n",
    "&a &=\\;& \\frac{1}{2}(r+\\frac{1}{2}\\sigma^2) \\\\\n",
    "&b &=\\;& \\frac{1}{3}\\sigma\\sqrt{\\frac{5}{2}} \\\\\n",
    "\\end{align*}\n",
    "$$\n",
    "\n",
    "**Calculating $C_0$ Analytically:**\n",
    "$$\n",
    "\\begin{align*}\n",
    " & C_0 &=\\;& e^{-rT}[K\\Phi(d) - S_0\\cdot exp\\{aT+\\frac{1}{2}b^2T\\}\\Phi(d-b\\sqrt{T})] \\\\\n",
    " & d   &=\\;& \\frac{ln(K/S_0) - aT}{b\\sqrt{T}}\n",
    "\\end{align*}\n",
    "$$"
   ]
  },
  {
   "cell_type": "code",
   "execution_count": 193,
   "metadata": {},
   "outputs": [],
   "source": [
    "def asian_2_step_put_analytical(S0, K, r, sigma, T):\n",
    "    a = 0.5*(r-.5*sigma**2)\n",
    "    b = 1/3*sigma*np.sqrt(5/2)\n",
    "\n",
    "    d = (np.log(K/S0) - a*T) / (b*np.sqrt(T))\n",
    "\n",
    "    P = np.exp(-r*T) * (K*norm.cdf(d) - S0*np.exp(a*T + 0.5* b**2 * T) * norm.cdf(d-b*np.sqrt(T)))\n",
    "    return P\n",
    "    "
   ]
  },
  {
   "cell_type": "code",
   "execution_count": 194,
   "metadata": {},
   "outputs": [
    {
     "name": "stdout",
     "output_type": "stream",
     "text": [
      "Analytical  = 122.765\n",
      "Monte-Carlo = 122.575 ,  Number of paths = 1,000,000\n",
      "SE = 0.131\n",
      "RE = 0.107 %\n",
      "95% CI = [122.319 , 122.831]\n",
      "\n",
      "Time to calculate put Value using Monte Carlo:\n",
      "62 ms ± 2.66 ms per loop (mean ± std. dev. of 7 runs, 10 loops each)\n"
     ]
    }
   ],
   "source": [
    "def asian_2_step_put_MC(S0, K, r, sigma, T, n_paths):\n",
    "    dt = T/2\n",
    "    # W: Weiner Process with iid Normal variables with std=sqrt(dt)\n",
    "    W       = np.random.normal(loc=0., scale=np.sqrt(dt), size=(n_paths,2) )\n",
    "    \n",
    "    S1 = S0 * np.exp((r-.5*sigma**2)*dt + sigma*W[:,0])\n",
    "    S2 = S1 * np.exp((r-.5*sigma**2)*dt + sigma*W[:,1])\n",
    "    HT = np.power(S0*S1*S2, 1/3)\n",
    "\n",
    "    Payoffs = np.maximum(K - HT, 0) * np.exp(-r*T)\n",
    "    P  = Payoffs.mean()  # Numerical Approximation of the Put's Value\n",
    "    SE = Payoffs.std(ddof=1) / np.sqrt(n_paths) # Calculating Standard Error\n",
    "    return P, SE\n",
    "    \n",
    "    \n",
    "n_paths = 10**6\n",
    "\n",
    "analytical_result           = asian_2_step_put_analytical(S, K, r, sigma, T)\n",
    "numerical_approximation, SE = asian_2_step_put_MC(S, K, r, sigma, T, n_paths)\n",
    "\n",
    "print(f'Analytical  = {asian_2_step_put_analytical(S, K, r, sigma, T):.3f}')\n",
    "print(f'Monte-Carlo = {numerical_approximation:.3f} ,  Number of paths = {n_paths:,}')\n",
    "print(f'SE = {SE:.3f}')\n",
    "print(f'RE = {SE/numerical_approximation*100:.3f} %')\n",
    "print(f'95% CI = [{numerical_approximation - SE*CI95:.3f} , {numerical_approximation + SE*CI95:.3f}]')\n",
    "print(f'\\nTime to calculate put Value using Monte Carlo:')\n",
    "%timeit asian_2_step_put_MC(S, K, r, sigma, T, n_paths)"
   ]
  },
  {
   "cell_type": "markdown",
   "metadata": {},
   "source": [
    "# Question 5: Asian Put\n",
    "Write a Monte Carlo simulation program that generates n = 104 samples1\n",
    "(under the probability measure Q) of the stock price path and the payoff GT . Use this to\n",
    "generate a Monte Carlo estimate  ̄G0 of the price G0, the standard error in that estimate,\n",
    "and a 95% confidence interval based on that standard error"
   ]
  },
  {
   "cell_type": "code",
   "execution_count": 195,
   "metadata": {},
   "outputs": [
    {
     "name": "stdout",
     "output_type": "stream",
     "text": [
      "Monte-Carlo = 116.117 ,  Number of paths = 10,000\n",
      "SE = 1.296\n",
      "RE = 1.116 %\n",
      "95% CI = [113.577 , 118.657]\n",
      "\n",
      "Time to calculate put Value using Monte Carlo\n",
      "84.9 ms ± 633 µs per loop (mean ± std. dev. of 7 runs, 10 loops each)\n"
     ]
    }
   ],
   "source": [
    "\"\"\" MC approximation of Asian \"\"\"\n",
    "def asian_put_MC(S0, K, r, sigma, T, N, M):\n",
    "    dt      = T/M\n",
    "    Payoffs = np.empty(shape=N)\n",
    "    \n",
    "    drift   = (r - 0.5*sigma**2)*dt\n",
    "    volatil = sigma*np.sqrt(dt)\n",
    "    X       = np.random.normal(loc=drift, scale=volatil, size=(N, M))\n",
    "    \n",
    "    # loop over paths\n",
    "    for m in range(N):\n",
    "        # Mean St Value\n",
    "        St = np.mean(S0 * np.exp(np.cumsum(X[m])))\n",
    "        # Payoff\n",
    "        Payoffs[m] = np.maximum(K - St, 0) * np.exp(-r*T)\n",
    "\n",
    "    P  = Payoffs.mean()  # Numerical Approximation of the Put's Value\n",
    "    SE = Payoffs.std() / np.sqrt(N) # Calculating Standard Error\n",
    "    return P, SE\n",
    "\n",
    "\n",
    "_n_paths    = 10**4 ;   M = 100\n",
    "numerical_approximation, SE = asian_put_MC(S, K, r, sigma, T, _n_paths, M)\n",
    "\n",
    "print(f'Monte-Carlo = {numerical_approximation:.3f} ,  Number of paths = {_n_paths:,}')\n",
    "print(f'SE = {SE:.3f}')\n",
    "print(f'RE = {SE/numerical_approximation*100:.3f} %')\n",
    "print(f'95% CI = [{numerical_approximation - SE*CI95:.3f} , {numerical_approximation + SE*CI95:.3f}]')\n",
    "print(f'\\nTime to calculate put Value using Monte Carlo')\n",
    "\n",
    "%timeit asian_put_MC(S, K, r, sigma, T, _n_paths, M)"
   ]
  },
  {
   "cell_type": "markdown",
   "metadata": {},
   "source": [
    "# Question 6 - Control Variates in Pricing Asian Options\n",
    "Repeat the calculation in 5. but this time use the payoffs CT in (1) as a control\n",
    "variate: take the n = 104 samples of the stock price path you generated to define a new\n",
    "estimator based on\n",
    "Gnew\n",
    "T = GT − βCT ,\n",
    "and then add βC0 afterwards, as indicated in Lecture 4. To make an appropriate choice\n",
    "for β, use your samples {(Gi\n",
    "T , Ci\n",
    "T ), i = 1...104}. Report the value, standard error, and the\n",
    "95% confidence interval for  ̄Gnew\n",
    "0 and compare your result to the values you found in 5"
   ]
  },
  {
   "cell_type": "markdown",
   "metadata": {},
   "source": [
    "Using the 2 step Asian Put as a control variate for reducing the variance in the estimation of the value of an Asian Option.\n",
    "$$\n",
    "\\begin{align*}\n",
    " & G_{new}  &=\\;& G_0 - c*(C_0 - C_{Analytical}) \\\\\n",
    " &c         &=\\;& \\frac{Cov(G_0, C_0)}{Var(C_0)} \\\\\n",
    "\\end{align*}\n",
    "$$\n",
    "Average c ~ 0.92"
   ]
  },
  {
   "cell_type": "code",
   "execution_count": 196,
   "metadata": {},
   "outputs": [
    {
     "name": "stdout",
     "output_type": "stream",
     "text": [
      "MC = 114.829 ,  Number of samples = 10,000\n",
      "SE = 0.460\n",
      "RE = 0.401 %\n",
      "95% CI = [113.927 , 115.731]\n",
      "\n",
      "Time to calculate put Value using Monte Carlo\n",
      "102 ms ± 2.72 ms per loop (mean ± std. dev. of 7 runs, 10 loops each)\n"
     ]
    }
   ],
   "source": [
    "def asian_put_MC_CV(S0, K, r, sigma, T, N, M):\n",
    "    analytical_2_step_asian = asian_2_step_put_analytical(S0, K, r, sigma, T)\n",
    "    dt      = T/M\n",
    "    Payoffs = np.empty(shape=(N,2))\n",
    "    \n",
    "    drift   = (r - 0.5*sigma**2)*dt\n",
    "    volatil = sigma*np.sqrt(dt)\n",
    "    X       = np.random.normal(loc=drift, scale=volatil, size=(N, M)) # paths x time_increments\n",
    "\n",
    "    for m in range(N):\n",
    "        St = S0 * np.exp(np.cumsum(X[m]))\n",
    "        \n",
    "        \"\"\" 2 Step Asian Option \"\"\"\n",
    "        HT = np.cbrt(St[0] * St[int(M/2)]* St[-1])\n",
    "        \n",
    "        Payoffs[m, 0] = np.maximum(K - HT, 0)\n",
    "\n",
    "        \"\"\" Asian Option \"\"\"\n",
    "        Payoffs[m, 1] =  np.maximum(K - np.mean(St), 0)\n",
    "\n",
    "    Payoffs *= np.exp(-r*T)\n",
    "\n",
    "    \"\"\" Calculating Control Variates \"\"\"\n",
    "    c = (np.cov(m=Payoffs[:, 1], y=Payoffs[:, 0])[0, 1])/Payoffs[:, 0].var() ;   # print(f'c = {c}')\n",
    "\n",
    "    \"\"\" Adjusting Results Using Control Variates \"\"\"\n",
    "    Payoffs_adj = Payoffs[:,1] - c*(Payoffs[:, 0] - analytical_2_step_asian)\n",
    "\n",
    "    P   = Payoffs_adj.mean()\n",
    "    SE  = Payoffs_adj.std() / np.sqrt(N)\n",
    "    return P, SE\n",
    "\n",
    "n_paths = 10**4 ;   M = 100\n",
    "asian_CV_numerical_result, SE = asian_put_MC_CV(S, K, r, sigma, T, n_paths, M)\n",
    "\n",
    "print(f'MC = {asian_CV_numerical_result:.3f} ,  Number of samples = {n_paths:,}')\n",
    "print(f'SE = {SE:.3f}')\n",
    "print(f'RE = {SE/asian_CV_numerical_result*100:.3f} %')\n",
    "print(f'95% CI = [{asian_CV_numerical_result - SE*CI95:.3f} , {asian_CV_numerical_result + SE*CI95:.3f}]')\n",
    "print(f'\\nTime to calculate put Value using Monte Carlo')\n",
    "\n",
    "%timeit asian_put_MC_CV(S, K, r, sigma, T, n_paths, M)"
   ]
  },
  {
   "cell_type": "markdown",
   "metadata": {},
   "source": [
    "# Extra: Sobol MC - C Compiled Python numba\n",
    "**Reduce variance of the estimation:**\n",
    "- Sobol MC: Sobol’ sequences (also called LPτ sequences or (t, s) sequences in base 2) are an example of quasi-random low-discrepancy sequences\n",
    "    \n",
    "**Reduce Computation time:**\n",
    "- Numba: Just in time (JIT) Compiler allows python/numpy funcitons to be compiled to opimized C code before execution and cashed for future use. This speeds up sertain tasks 100-1000X times.\n"
   ]
  },
  {
   "cell_type": "code",
   "execution_count": 197,
   "metadata": {},
   "outputs": [
    {
     "name": "stdout",
     "output_type": "stream",
     "text": [
      "MC = 114.705 ,  Number of samples = 16,384\n",
      "SE = 0.360\n",
      "RE = 0.314 %\n",
      "95% CI = [113.999 , 115.411]\n",
      "\n",
      "Time to calculate put Value using Monte Carlo\n"
     ]
    }
   ],
   "source": [
    "# Sobol - Quasi Monte Carlo for path simulation\n",
    "def sobol_norm(m, d=1 ,seed=1234):\n",
    "    sampler = qmc.Sobol(d, scramble=True, seed=seed)\n",
    "    x_sobol = sampler.random_base2(m)\n",
    "    return stats.norm.ppf(x_sobol)\n",
    "\n",
    "@njit\n",
    "def asian_put_MC_CV(S0, K, r, sigma, T, N, M, X, analytical):\n",
    "    Payoffs = np.empty(shape=(N,2))\n",
    "\n",
    "    for m in range(N):\n",
    "        St = S0 * np.exp(np.cumsum(X[m]))\n",
    "        \n",
    "        \"\"\" 2 Step Asian Option \"\"\"\n",
    "        HT = np.cbrt(St[0] * St[int(M/2)]* St[-1])\n",
    "        \n",
    "        Payoffs[m, 0] = np.maximum(K - HT, 0)\n",
    "\n",
    "        \"\"\" Asian Option \"\"\"\n",
    "        Payoffs[m, 1] =  np.maximum(K - np.mean(St), 0)\n",
    "\n",
    "    Payoffs *= np.exp(-r*T)\n",
    "\n",
    "    \"\"\" Calculating Control Variates \"\"\"\n",
    "    c = (np.cov(m=Payoffs[:, 1], y=Payoffs[:, 0])[0, 1])/Payoffs[:, 0].var() ;   # print(f'c = {c}')\n",
    "\n",
    "    \"\"\" Adjusting Results Using Control Variates \"\"\"\n",
    "    Payoffs_adj = Payoffs[:,1] - c*(Payoffs[:, 0] - analytical)\n",
    "\n",
    "    P   = Payoffs_adj.mean()\n",
    "    SE  = Payoffs_adj.std() / np.sqrt(N)\n",
    "    return P, SE\n",
    "\n",
    "n_paths = ceil(np.log2(10**4)) ;   M = 100\n",
    "\n",
    "analytical_2_step_asian = asian_2_step_put_analytical(S, K, r, sigma, T)\n",
    "dt      = T/M\n",
    "\n",
    "drift   = (r - 0.5*sigma**2)*dt\n",
    "volatil = sigma*np.sqrt(dt)\n",
    "W       = sobol_norm(n_paths, d=M, seed=1235)\n",
    "X       = drift + volatil*W\n",
    "\n",
    "asian_CV_numerical_result, SE = asian_put_MC_CV(S, K, r, sigma, T, 2**n_paths, M, X, analytical_2_step_asian)\n",
    "\n",
    "print(f'MC = {asian_CV_numerical_result:.3f} ,  Number of samples = {2**n_paths:,}')\n",
    "print(f'SE = {SE:.3f}')\n",
    "print(f'RE = {SE/asian_CV_numerical_result*100:.3f} %')\n",
    "print(f'95% CI = [{asian_CV_numerical_result - SE*CI95:.3f} , {asian_CV_numerical_result + SE*CI95:.3f}]')\n",
    "print(f'\\nTime to calculate put Value using Monte Carlo')\n",
    "\n",
    "# %timeit asian_put_MC_CV(S, K, r, sigma, T, n_paths, M, X, analytical_2_step_asian)"
   ]
  },
  {
   "cell_type": "markdown",
   "metadata": {},
   "source": [
    "# Extra: Greeks"
   ]
  },
  {
   "cell_type": "code",
   "execution_count": 198,
   "metadata": {},
   "outputs": [
    {
     "name": "stdout",
     "output_type": "stream",
     "text": [
      "Price of Asian Put : 108.46036 USD\n",
      "Standard Error     : 0.00000 USD\n",
      "\n",
      " Greeks:\n",
      "------------------------\n",
      "-0.45705531633240587\n",
      "Delta   : -0.45706\n",
      "Vega    : 486.350\n",
      "Theta   : 6.403\n",
      "Rho     : -2340.218\n",
      "Gamma   : 0.00164\n"
     ]
    }
   ],
   "source": [
    "from importlib import reload\n",
    "import Asian_Option_Pricing as ao\n",
    "reload(ao)\n",
    "\n",
    "AP = ao.Asian_Put_Option(S=S, K=K, T=9, r=r, sigma=sigma)\n",
    "P0, SE = AP.get_price(number_of_paths=10**5)\n",
    "print(f'Price of Asian Put : {P0:.5f} USD')\n",
    "print(f'Standard Error     : {SE:.5f} USD')\n",
    "print('\\n Greeks:\\n------------------------')\n",
    "print(f'Delta   : {AP.Delta :.5f}')\n",
    "print(f'Vega    : {AP.Vega  :.3f}')\n",
    "print(f'Theta   : {AP.Theta :.3f}')\n",
    "print(f'Rho     : {AP.Rho :.3f}')\n",
    "print(f'Gamma   : {AP.Gamma :.5f}')"
   ]
  },
  {
   "cell_type": "markdown",
   "metadata": {},
   "source": [
    "# Hedgins Simulation - Work in Progress"
   ]
  },
  {
   "cell_type": "code",
   "execution_count": 199,
   "metadata": {},
   "outputs": [],
   "source": [
    "S = 10\n",
    "K = 10\n",
    "r = 0.05\n",
    "sigma = 0.4\n",
    "T = 1\n",
    "\n",
    "# Todo Add St History\n"
   ]
  },
  {
   "cell_type": "code",
   "execution_count": 200,
   "metadata": {},
   "outputs": [
    {
     "name": "stdout",
     "output_type": "stream",
     "text": [
      "Number of timesteps: 201\n",
      "-0.39791145807894\n",
      "P0    : 0.77 EUR \n",
      "Delta : -0.39791 Stock\n"
     ]
    },
    {
     "data": {
      "application/vnd.jupyter.widget-view+json": {
       "model_id": "f8ce69fbb5a3488ca27fc17279ff32ff",
       "version_major": 2,
       "version_minor": 0
      },
      "text/plain": [
       "  0%|          | 0/19 [00:00<?, ?it/s]"
      ]
     },
     "metadata": {},
     "output_type": "display_data"
    },
    {
     "name": "stdout",
     "output_type": "stream",
     "text": [
      "t : 0.05 \n",
      "t_index : 0.05\n",
      "-0.23178490426701495\n",
      "t : 0.1 \n",
      "t_index : 0.1\n",
      "-0.28735743704302724\n",
      "t : 0.15000000000000002 \n",
      "t_index : 0.15\n",
      "-0.27334407704696523\n",
      "t : 0.2 \n",
      "t_index : 0.2\n",
      "-0.21845182436867347\n",
      "t : 0.25 \n",
      "t_index : 0.25\n",
      "-0.2698772570513347\n",
      "t : 0.3 \n",
      "t_index : 0.3\n",
      "-0.13055687002994343\n",
      "t : 0.35000000000000003 \n",
      "t_index : 0.35000000000000003\n",
      "-0.08873829256054501\n",
      "t : 0.4 \n",
      "t_index : 0.4\n",
      "-0.07387887246300308\n",
      "t : 0.45 \n",
      "t_index : 0.45\n",
      "-0.21862276462727598\n",
      "t : 0.5 \n",
      "t_index : 0.5\n",
      "-0.29296115548154456\n",
      "t : 0.55 \n",
      "t_index : 0.55\n",
      "-0.2312940381026323\n",
      "t : 0.6000000000000001 \n",
      "t_index : 0.6\n",
      "-0.23040367499159062\n",
      "t : 0.6500000000000001 \n",
      "t_index : 0.65\n",
      "-0.3047122704069823\n",
      "t : 0.7000000000000001 \n",
      "t_index : 0.7000000000000001\n",
      "-0.35349844394433255\n",
      "t : 0.7500000000000001 \n",
      "t_index : 0.75\n",
      "-0.09689166467464098\n",
      "t : 0.8 \n",
      "t_index : 0.8\n",
      "-0.25536855282463794\n",
      "t : 0.8500000000000001 \n",
      "t_index : 0.85\n",
      "-0.12685297657386957\n",
      "t : 0.9000000000000001 \n",
      "t_index : 0.9\n",
      "-0.0689031037814964\n",
      "t : 0.9500000000000001 \n",
      "t_index : 0.9500000000000001\n",
      "-0.38114249047282844\n",
      "Total Balance: 0.4767113184261511\n"
     ]
    },
    {
     "data": {
      "image/png": "[encoded data removed]",
      "text/plain": [
       "<Figure size 1440x504 with 1 Axes>"
      ]
     },
     "metadata": {
      "needs_background": "light"
     },
     "output_type": "display_data"
    }
   ],
   "source": [
    "reload(ao)\n",
    "\n",
    "# GBM Path\n",
    "dt = 1/200\n",
    "mu = .08\n",
    "rehedging_frequency = 1/20\n",
    "\n",
    "_number_of_timesteps = int(T/dt) +1   ;   print(f'Number of timesteps: {_number_of_timesteps}')\n",
    "X       = np.random.normal(loc=mu*dt, scale=sigma*np.sqrt(dt), size=_number_of_timesteps) \n",
    "S_path  = S * np.exp(np.cumsum(X))\n",
    "\n",
    "# Plot Path\n",
    "S_series = pd.Series(S_path, index=np.linspace(0, T, _number_of_timesteps))\n",
    "S_series.plot(title='GB Path of S(t)', ylabel='S(t) - USD', xlabel='t - years')\n",
    "\n",
    "# T = 0\n",
    "AP = ao.Asian_Put_Option(S=S, K=K, T=T, r=r, sigma=sigma)\n",
    "P0 = AP.get_price()[0]\n",
    "\n",
    "Delta       = AP.Delta\n",
    "print(f'P0    : {P0:.2f} EUR \\nDelta : {Delta:.5f} Stock')\n",
    "Portfolio   = {0 : [Delta, (Delta*S)*np.exp(r*T)]}\n",
    "\n",
    "# Function to find the nearest index of t in \n",
    "def find_nearest(array, value):\n",
    "    array = np.asarray(array)\n",
    "    idx = (np.abs(array - value)).argmin()\n",
    "    return array[idx]\n",
    "\n",
    "# Loop over time to simulate the rebalancing of the replicating portfolio\n",
    "for t in tqdm(np.arange(rehedging_frequency, T, rehedging_frequency)):\n",
    "    t_index = find_nearest(S_series.index, value=t)\n",
    "    print(f't : {t} \\nt_index : {t_index}')\n",
    "    _S = S_series[t_index]\n",
    "\n",
    "    AP = ao.Asian_Put_Option(S=_S, K=K, T=T-t_index, r=r, sigma=sigma, _greek=True)\n",
    "    Delta       = AP.Delta\n",
    "\n",
    "    previous_Delta = list(Portfolio.values())[-1][0]\n",
    "\n",
    "    Portfolio[t_index] = [Delta, (Delta - previous_Delta)*_S * np.exp(r*(T-t_index))]\n",
    "    # print(Portfolio.values()) ; break\n",
    "\n",
    "    # if t> 1 : \n",
    "    #     print(f'\\nPortfolio:')\n",
    "    #     print(json.dumps(Portfolio, indent=2))\n",
    "    #     break\n",
    "\n",
    "RP_df = pd.DataFrame.from_dict(Portfolio, orient='index', columns=['Delta', 'Balance'])\n",
    "\n",
    "Total_Balance = P0*np.exp(r*T) + -RP_df.Balance.sum() + RP_df.Delta.values[-1]*S_series.values[-1]\n",
    "print(f'Total Balance: {Total_Balance}')\n"
   ]
  },
  {
   "cell_type": "code",
   "execution_count": 201,
   "metadata": {},
   "outputs": [
    {
     "data": {
      "text/plain": [
       "(0.8063347671310968, -3.0833514104503292, 3.412974859155275)"
      ]
     },
     "execution_count": 201,
     "metadata": {},
     "output_type": "execute_result"
    }
   ],
   "source": [
    "P0*np.exp(r*T) ,RP_df.Balance.sum() ,-RP_df.Delta.values[-1]*S_series.values[-1]"
   ]
  },
  {
   "cell_type": "code",
   "execution_count": 202,
   "metadata": {},
   "outputs": [
    {
     "data": {
      "text/html": [
       "<div>\n",
       "<style scoped>\n",
       "    .dataframe tbody tr th:only-of-type {\n",
       "        vertical-align: middle;\n",
       "    }\n",
       "\n",
       "    .dataframe tbody tr th {\n",
       "        vertical-align: top;\n",
       "    }\n",
       "\n",
       "    .dataframe thead th {\n",
       "        text-align: right;\n",
       "    }\n",
       "</style>\n",
       "<table border=\"1\" class=\"dataframe\">\n",
       "  <thead>\n",
       "    <tr style=\"text-align: right;\">\n",
       "      <th></th>\n",
       "      <th>Delta</th>\n",
       "      <th>Balance</th>\n",
       "    </tr>\n",
       "  </thead>\n",
       "  <tbody>\n",
       "    <tr>\n",
       "      <th>0.00</th>\n",
       "      <td>-0.397911</td>\n",
       "      <td>-4.183128</td>\n",
       "    </tr>\n",
       "    <tr>\n",
       "      <th>0.05</th>\n",
       "      <td>-0.231785</td>\n",
       "      <td>1.943810</td>\n",
       "    </tr>\n",
       "    <tr>\n",
       "      <th>0.10</th>\n",
       "      <td>-0.287357</td>\n",
       "      <td>-0.624641</td>\n",
       "    </tr>\n",
       "    <tr>\n",
       "      <th>0.15</th>\n",
       "      <td>-0.273344</td>\n",
       "      <td>0.158382</td>\n",
       "    </tr>\n",
       "    <tr>\n",
       "      <th>0.20</th>\n",
       "      <td>-0.218452</td>\n",
       "      <td>0.639641</td>\n",
       "    </tr>\n",
       "    <tr>\n",
       "      <th>0.25</th>\n",
       "      <td>-0.269877</td>\n",
       "      <td>-0.577990</td>\n",
       "    </tr>\n",
       "    <tr>\n",
       "      <th>0.30</th>\n",
       "      <td>-0.130557</td>\n",
       "      <td>1.719916</td>\n",
       "    </tr>\n",
       "    <tr>\n",
       "      <th>0.35</th>\n",
       "      <td>-0.088738</td>\n",
       "      <td>0.532066</td>\n",
       "    </tr>\n",
       "    <tr>\n",
       "      <th>0.40</th>\n",
       "      <td>-0.073879</td>\n",
       "      <td>0.190647</td>\n",
       "    </tr>\n",
       "    <tr>\n",
       "      <th>0.45</th>\n",
       "      <td>-0.218623</td>\n",
       "      <td>-1.643174</td>\n",
       "    </tr>\n",
       "    <tr>\n",
       "      <th>0.50</th>\n",
       "      <td>-0.292961</td>\n",
       "      <td>-0.808517</td>\n",
       "    </tr>\n",
       "    <tr>\n",
       "      <th>0.55</th>\n",
       "      <td>-0.231294</td>\n",
       "      <td>0.686729</td>\n",
       "    </tr>\n",
       "    <tr>\n",
       "      <th>0.60</th>\n",
       "      <td>-0.230404</td>\n",
       "      <td>0.009858</td>\n",
       "    </tr>\n",
       "    <tr>\n",
       "      <th>0.65</th>\n",
       "      <td>-0.304712</td>\n",
       "      <td>-0.793051</td>\n",
       "    </tr>\n",
       "    <tr>\n",
       "      <th>0.70</th>\n",
       "      <td>-0.353498</td>\n",
       "      <td>-0.509033</td>\n",
       "    </tr>\n",
       "    <tr>\n",
       "      <th>0.75</th>\n",
       "      <td>-0.096892</td>\n",
       "      <td>2.960368</td>\n",
       "    </tr>\n",
       "    <tr>\n",
       "      <th>0.80</th>\n",
       "      <td>-0.255369</td>\n",
       "      <td>-1.686587</td>\n",
       "    </tr>\n",
       "    <tr>\n",
       "      <th>0.85</th>\n",
       "      <td>-0.126853</td>\n",
       "      <td>1.415946</td>\n",
       "    </tr>\n",
       "    <tr>\n",
       "      <th>0.90</th>\n",
       "      <td>-0.068903</td>\n",
       "      <td>0.641334</td>\n",
       "    </tr>\n",
       "    <tr>\n",
       "      <th>0.95</th>\n",
       "      <td>-0.381142</td>\n",
       "      <td>-3.155928</td>\n",
       "    </tr>\n",
       "  </tbody>\n",
       "</table>\n",
       "</div>"
      ],
      "text/plain": [
       "         Delta   Balance\n",
       "0.00 -0.397911 -4.183128\n",
       "0.05 -0.231785  1.943810\n",
       "0.10 -0.287357 -0.624641\n",
       "0.15 -0.273344  0.158382\n",
       "0.20 -0.218452  0.639641\n",
       "0.25 -0.269877 -0.577990\n",
       "0.30 -0.130557  1.719916\n",
       "0.35 -0.088738  0.532066\n",
       "0.40 -0.073879  0.190647\n",
       "0.45 -0.218623 -1.643174\n",
       "0.50 -0.292961 -0.808517\n",
       "0.55 -0.231294  0.686729\n",
       "0.60 -0.230404  0.009858\n",
       "0.65 -0.304712 -0.793051\n",
       "0.70 -0.353498 -0.509033\n",
       "0.75 -0.096892  2.960368\n",
       "0.80 -0.255369 -1.686587\n",
       "0.85 -0.126853  1.415946\n",
       "0.90 -0.068903  0.641334\n",
       "0.95 -0.381142 -3.155928"
      ]
     },
     "execution_count": 202,
     "metadata": {},
     "output_type": "execute_result"
    }
   ],
   "source": [
    "RP_df"
   ]
  }
 ],
 "metadata": {
  "interpreter": {
   "hash": "e6bce1ea51a34d90ba6fee2abe92acbdb2c915cb3d6eeec38ec312954e42946a"
  },
  "kernelspec": {
   "display_name": "Python 3.10.2 ('QF')",
   "language": "python",
   "name": "python3"
  },
  "language_info": {
   "codemirror_mode": {
    "name": "ipython",
    "version": 3
   },
   "file_extension": ".py",
   "mimetype": "text/x-python",
   "name": "python",
   "nbconvert_exporter": "python",
   "pygments_lexer": "ipython3",
   "version": "3.10.2"
  },
  "orig_nbformat": 4
 },
 "nbformat": 4,
 "nbformat_minor": 2
}
