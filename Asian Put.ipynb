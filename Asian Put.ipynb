{
 "cells": [
  {
   "cell_type": "code",
   "execution_count": 91,
   "metadata": {},
   "outputs": [],
   "source": [
    "import numpy as np\n",
    "import pandas as pd\n",
    "from numba import njit, float64\n",
    "\n",
    "from math import ceil, floor\n",
    "from scipy.stats import norm\n",
    "import scipy.stats as stats\n",
    "from scipy.stats import qmc\n",
    "\n",
    "from matplotlib import pyplot as plt\n",
    "from tqdm.notebook import tqdm, trange\n",
    "\n",
    "plt.rcParams[\"figure.figsize\"] = (20, 7)\n",
    "plt.rcParams[\"font.size\"] = 13\n",
    "plt.style.use('bmh')\n",
    "\n",
    "from importlib import reload"
   ]
  },
  {
   "cell_type": "markdown",
   "metadata": {},
   "source": [
    "# Question 4: Pricing 2 step Asian Options using Monte Carlo\n",
    "Write a Monte Carlo simulation program that generates n = 106 samples1\n",
    "(under the probability measure Q) of the payoff CT . The program should produce a Monte\n",
    "Carlo estimate  ̄C0 of C0, the standard error in that estimate, and a 95% confidence interval\n",
    "based on that standard error. Compare the result to the theoretical value you found in the\n",
    "previous question"
   ]
  },
  {
   "cell_type": "code",
   "execution_count": 92,
   "metadata": {},
   "outputs": [
    {
     "name": "stdout",
     "output_type": "stream",
     "text": [
      "CI95 = 1.9600\n"
     ]
    }
   ],
   "source": [
    "# Parameters\n",
    "T       = 10 # Years\n",
    "r       = -0.0027 #np.log(1-0.0027)\n",
    "sigma   = 0.21\n",
    "S       = K = 715\n",
    "\n",
    "CI95 = norm.ppf(1-(.05/2)) ; print(f'CI95 = {CI95:.4f}')"
   ]
  },
  {
   "cell_type": "markdown",
   "metadata": {},
   "source": [
    "**Analytical Solutions to calculate the Discounted Expected Payoff of 2 step Asian Put (Geometric Mean). Where:**\n",
    "$$\n",
    "C_0 = e^{-rT}E^{Q}[(K - S_{0}exp\\{aT+bdW_T\\})^{+}]\n",
    "$$\n",
    "\n",
    "**Under Risk Neutral Probability**\n",
    "$$\n",
    "\\begin{align*}\n",
    "&a &=\\;& \\frac{1}{2}(r+\\frac{1}{2}\\sigma^2) \\\\\n",
    "&b &=\\;& \\frac{1}{3}\\sigma\\sqrt{\\frac{5}{2}} \\\\\n",
    "\\end{align*}\n",
    "$$\n",
    "\n",
    "**Calculating $C_0$ Analytically:**\n",
    "$$\n",
    "\\begin{align*}\n",
    " & C_0 &=\\;& e^{-rT}[K\\Phi(d) - S_0\\cdot exp\\{aT+\\frac{1}{2}b^2T\\}\\Phi(d-b\\sqrt{T})] \\\\\n",
    " & d   &=\\;& \\frac{ln(K/S_0) - aT}{b\\sqrt{T}}\n",
    "\\end{align*}\n",
    "$$"
   ]
  },
  {
   "cell_type": "code",
   "execution_count": 93,
   "metadata": {},
   "outputs": [],
   "source": [
    "def asian_2_step_put_analytical(S0, K, r, sigma, T):\n",
    "    a = 0.5*(r-.5*sigma**2)\n",
    "    b = 1/3*sigma*np.sqrt(5/2)\n",
    "\n",
    "    d = (np.log(K/S0) - a*T) / (b*np.sqrt(T))\n",
    "\n",
    "    P = np.exp(-r*T) * (K*norm.cdf(d) - S0*np.exp(a*T + 0.5* b**2 * T) * norm.cdf(d-b*np.sqrt(T)))\n",
    "    return P\n",
    "    "
   ]
  },
  {
   "cell_type": "code",
   "execution_count": 94,
   "metadata": {},
   "outputs": [
    {
     "name": "stdout",
     "output_type": "stream",
     "text": [
      "Analytical  = 122.765\n",
      "Monte-Carlo = 122.437 ,  Number of paths = 1,000,000\n",
      "SE = 0.131\n",
      "RE = 0.107 %\n",
      "95% CI = [122.180 , 122.693]\n",
      "\n",
      "Time to calculate put Value using Monte Carlo:\n",
      "65 ms ± 4.39 ms per loop (mean ± std. dev. of 7 runs, 10 loops each)\n"
     ]
    }
   ],
   "source": [
    "def asian_2_step_put_MC(S0, K, r, sigma, T, n_paths):\n",
    "    dt = T/2\n",
    "    # W: Weiner Process with iid Normal variables with std=sqrt(dt)\n",
    "    W       = np.random.normal(loc=0., scale=np.sqrt(dt), size=(n_paths,2) )\n",
    "    \n",
    "    S1 = S0 * np.exp((r-.5*sigma**2)*dt + sigma*W[:,0])\n",
    "    S2 = S1 * np.exp((r-.5*sigma**2)*dt + sigma*W[:,1])\n",
    "    HT = np.power(S0*S1*S2, 1/3)\n",
    "\n",
    "    Payoffs = np.maximum(K - HT, 0) * np.exp(-r*T)\n",
    "    P  = Payoffs.mean()  # Numerical Approximation of the Put's Value\n",
    "    SE = Payoffs.std(ddof=1) / np.sqrt(n_paths) # Calculating Standard Error\n",
    "    return P, SE\n",
    "    \n",
    "    \n",
    "n_paths = 10**6\n",
    "\n",
    "analytical_result           = asian_2_step_put_analytical(S, K, r, sigma, T)\n",
    "numerical_approximation, SE = asian_2_step_put_MC(S, K, r, sigma, T, n_paths)\n",
    "\n",
    "print(f'Analytical  = {asian_2_step_put_analytical(S, K, r, sigma, T):.3f}')\n",
    "print(f'Monte-Carlo = {numerical_approximation:.3f} ,  Number of paths = {n_paths:,}')\n",
    "print(f'SE = {SE:.3f}')\n",
    "print(f'RE = {SE/numerical_approximation*100:.3f} %')\n",
    "print(f'95% CI = [{numerical_approximation - SE*CI95:.3f} , {numerical_approximation + SE*CI95:.3f}]')\n",
    "print(f'\\nTime to calculate put Value using Monte Carlo:')\n",
    "%timeit asian_2_step_put_MC(S, K, r, sigma, T, n_paths)"
   ]
  },
  {
   "cell_type": "markdown",
   "metadata": {},
   "source": [
    "# Question 5: Asian Put\n",
    "Write a Monte Carlo simulation program that generates n = 104 samples1\n",
    "(under the probability measure Q) of the stock price path and the payoff GT . Use this to\n",
    "generate a Monte Carlo estimate  ̄G0 of the price G0, the standard error in that estimate,\n",
    "and a 95% confidence interval based on that standard error"
   ]
  },
  {
   "cell_type": "markdown",
   "metadata": {},
   "source": [
    "## Asian Put with Trapezoidal Rule\n",
    "We use the following algorithm to compute $I_T$ where:    \n",
    "$$\n",
    "\\begin{align*}\n",
    "& I_T &=\\;& \\int_0 ^TS_tdt \\\\\n",
    "& I_T &\\approx& \\frac{1}{M}\\sum_{i=0}^{M}\\frac{S_i + S_{i+1}}{2}  \\\\\n",
    "\\end{align*}\n",
    "$$\n",
    "With $M=100$, $S_0=715$ and afterwards we simulate 100 steps. For a $S_t$ array of 101 values."
   ]
  },
  {
   "cell_type": "code",
   "execution_count": 95,
   "metadata": {},
   "outputs": [
    {
     "name": "stdout",
     "output_type": "stream",
     "text": [
      "Monte-Carlo = 114.708 ,  Number of paths = 10,000\n",
      "SE = 1.277\n",
      "RE = 1.113 %\n",
      "95% CI = [112.206 , 117.210]\n",
      "\n",
      "Time to calculate put Value using Monte Carlo\n",
      "96.9 ms ± 744 µs per loop (mean ± std. dev. of 7 runs, 10 loops each)\n"
     ]
    }
   ],
   "source": [
    "\"\"\" MC approximation of Asian \"\"\"\n",
    "def asian_put_MC(S0, K, r, sigma, T, N, M):\n",
    "    dt      = T/M\n",
    "    Payoffs = np.empty(shape=N)\n",
    "    \n",
    "    drift   = (r - 0.5*sigma**2)*dt\n",
    "    volatil = sigma*np.sqrt(dt)\n",
    "    X       = np.append(np.zeros((N,1)), np.random.normal(loc=drift, scale=volatil, size=(N, M)), axis=1)\n",
    "\n",
    "    # loop over paths\n",
    "    for m in range(N):\n",
    "        # Mean St Value\n",
    "        St = S0 * np.exp(np.cumsum(X[m]))\n",
    "        mean_St = np.mean((St[:-1] + St[1:])/2)\n",
    "        # Payoff\n",
    "        Payoffs[m] = np.maximum(K - mean_St, 0) * np.exp(-r*T)\n",
    "\n",
    "    P  = Payoffs.mean()  # Numerical Approximation of the Put's Value\n",
    "    SE = Payoffs.std() / np.sqrt(N) # Calculating Standard Error\n",
    "    return P, SE\n",
    "\n",
    "\n",
    "_n_paths    = 10**4 ;   M = 100\n",
    "numerical_approximation, SE = asian_put_MC(S, K, r, sigma, T, _n_paths, M)\n",
    "\n",
    "print(f'Monte-Carlo = {numerical_approximation:.3f} ,  Number of paths = {_n_paths:,}')\n",
    "print(f'SE = {SE:.3f}')\n",
    "print(f'RE = {SE/numerical_approximation*100:.3f} %')\n",
    "print(f'95% CI = [{numerical_approximation - SE*CI95:.3f} , {numerical_approximation + SE*CI95:.3f}]')\n",
    "print(f'\\nTime to calculate put Value using Monte Carlo')\n",
    "\n",
    "%timeit asian_put_MC(S, K, r, sigma, T, _n_paths, M)"
   ]
  },
  {
   "cell_type": "markdown",
   "metadata": {},
   "source": [
    "# Question 6 - Control Variates in Pricing Asian Options\n",
    "Repeat the calculation in 5. but this time use the payoffs CT in (1) as a control\n",
    "variate: take the n = 104 samples of the stock price path you generated to define a new\n",
    "estimator based on\n",
    "Gnew\n",
    "T = GT − βCT ,\n",
    "and then add βC0 afterwards, as indicated in Lecture 4. To make an appropriate choice\n",
    "for β, use your samples {(Gi\n",
    "T , Ci\n",
    "T ), i = 1...104}. Report the value, standard error, and the\n",
    "95% confidence interval for  ̄Gnew\n",
    "0 and compare your result to the values you found in 5"
   ]
  },
  {
   "cell_type": "markdown",
   "metadata": {},
   "source": [
    "Using the 2 step Asian Put as a control variate for reducing the variance in the estimation of the value of an Asian Option.\n",
    "$$\n",
    "\\begin{align*}\n",
    " & G_{new}  &=\\;& G_0 - c*(C_0 - C_{Analytical}) \\\\\n",
    " &c         &=\\;& \\frac{Cov(G_0, C_0)}{Var(C_0)} \\\\\n",
    "\\end{align*}\n",
    "$$\n",
    "Average c ~ 0.92"
   ]
  },
  {
   "cell_type": "code",
   "execution_count": 105,
   "metadata": {},
   "outputs": [
    {
     "name": "stdout",
     "output_type": "stream",
     "text": [
      "MC = 115.314 ,  Number of samples = 10,000\n",
      "SE = 0.469\n",
      "RE = 0.406 %\n",
      "95% CI = [114.395 , 116.233]\n",
      "\n",
      "Time to calculate put Value using Monte Carlo\n",
      "114 ms ± 1.82 ms per loop (mean ± std. dev. of 7 runs, 10 loops each)\n"
     ]
    }
   ],
   "source": [
    "def asian_put_MC_CV(S0, K, r, sigma, T, N, M):\n",
    "    analytical_2_step_asian = asian_2_step_put_analytical(S0, K, r, sigma, T)\n",
    "    dt      = T/M\n",
    "    Payoffs = np.empty(shape=(N,2))\n",
    "    \n",
    "    drift   = (r - 0.5*sigma**2)*dt\n",
    "    volatil = sigma*np.sqrt(dt)\n",
    "    X       = np.append(np.zeros((N,1)), np.random.normal(loc=drift, scale=volatil, size=(N, M)), axis=1)\n",
    "\n",
    "    # loop over paths\n",
    "    for m in range(N):\n",
    "        # Mean St Value\n",
    "        St      = S0 * np.exp(np.cumsum(X[m]))\n",
    "        mean_St = np.mean((St[:-1] + St[1:])/2)\n",
    "\n",
    "        \"\"\" 2 Step Asian Option \"\"\"\n",
    "        HT = np.cbrt(St[0] * St[int(M/2)]* St[-1])\n",
    "        \n",
    "        Payoffs[m, 0] = np.maximum(K - HT, 0)\n",
    "\n",
    "        \"\"\" Asian Option \"\"\"\n",
    "        Payoffs[m, 1] =  np.maximum(K - mean_St, 0)\n",
    "\n",
    "    Payoffs *= np.exp(-r*T)\n",
    "\n",
    "    \"\"\" Calculating Control Variates \"\"\"\n",
    "    c = (np.cov(m=Payoffs[:, 1], y=Payoffs[:, 0])[0, 1])/Payoffs[:, 0].var() ;   # print(f'c = {c}')\n",
    "\n",
    "    \"\"\" Adjusting Results Using Control Variates \"\"\"\n",
    "    Payoffs_adj = Payoffs[:,1] - c*(Payoffs[:, 0] - analytical_2_step_asian)\n",
    "\n",
    "    P   = Payoffs_adj.mean()\n",
    "    SE  = Payoffs_adj.std() / np.sqrt(N)\n",
    "    return P, SE\n",
    "\n",
    "n_paths = 10**4 ;   M = 100\n",
    "asian_CV_numerical_result, SE = asian_put_MC_CV(S, K, r, sigma, T, n_paths, M)\n",
    "\n",
    "print(f'MC = {asian_CV_numerical_result:.3f} ,  Number of samples = {n_paths:,}')\n",
    "print(f'SE = {SE:.3f}')\n",
    "print(f'RE = {SE/asian_CV_numerical_result*100:.3f} %')\n",
    "print(f'95% CI = [{asian_CV_numerical_result - SE*CI95:.3f} , {asian_CV_numerical_result + SE*CI95:.3f}]')\n",
    "print(f'\\nTime to calculate put Value using Monte Carlo')\n",
    "\n",
    "%timeit asian_put_MC_CV(S, K, r, sigma, T, n_paths, M)"
   ]
  },
  {
   "cell_type": "markdown",
   "metadata": {},
   "source": [
    "# Extra: Sobol MC - C Compiled Python numba\n",
    "**Reduce variance of the estimation:**\n",
    "- Sobol MC: Sobol’ sequences (also called LPτ sequences or (t, s) sequences in base 2) are an example of quasi-random low-discrepancy sequences\n",
    "- **While Sobol by itself reduces variance. When used in combination with Control Variates it does not further reduce the variance of the approximation.**\n",
    "    \n",
    "**Reduce Computation time:**\n",
    "- Numba: Just in time (JIT) Compiler allows python/numpy funcitons to be compiled to opimized C code before execution and cashed for future use. This speeds up sertain tasks 100-1000X times.\n"
   ]
  },
  {
   "cell_type": "code",
   "execution_count": 102,
   "metadata": {},
   "outputs": [
    {
     "name": "stdout",
     "output_type": "stream",
     "text": [
      "MC = 115.546 ,  Number of samples = 16,384\n",
      "SE = 0.359\n",
      "RE = 0.310 %\n",
      "95% CI = [114.843 , 116.249]\n",
      "\n",
      "Time to calculate put Value using Monte Carlo\n",
      "10.9 µs ± 38.8 ns per loop (mean ± std. dev. of 7 runs, 100000 loops each)\n"
     ]
    }
   ],
   "source": [
    "# Sobol - Quasi Monte Carlo for path simulation\n",
    "def sobol_norm(m, d=1 ,seed=1234):\n",
    "    sampler = qmc.Sobol(d, scramble=True, seed=seed)\n",
    "    x_sobol = sampler.random_base2(m)\n",
    "    return stats.norm.ppf(x_sobol)\n",
    "\n",
    "@njit\n",
    "def asian_put_MC_CV(S0, K, r, sigma, T, N, M, X, analytical):\n",
    "    Payoffs = np.empty(shape=(N,2))\n",
    "\n",
    "    for m in range(N):\n",
    "        St = S0 * np.exp(np.cumsum(X[m]))\n",
    "        mean_St = np.mean((St[:-1] + St[1:])/2)\n",
    "\n",
    "        \"\"\" 2 Step Asian Option \"\"\"\n",
    "        HT = np.cbrt(St[0] * St[int(M/2)]* St[-2])\n",
    "        \n",
    "        Payoffs[m, 0] = np.maximum(K - HT, 0)\n",
    "\n",
    "        \"\"\" Asian Option \"\"\"\n",
    "        Payoffs[m, 1] =  np.maximum(K - mean_St, 0)\n",
    "\n",
    "    Payoffs *= np.exp(-r*T)\n",
    "\n",
    "    \"\"\" Calculating Control Variates \"\"\"\n",
    "    c = (np.cov(m=Payoffs[:, 1], y=Payoffs[:, 0])[0, 1])/Payoffs[:, 0].var() ;   # print(f'c = {c}')\n",
    "\n",
    "    \"\"\" Adjusting Results Using Control Variates \"\"\"\n",
    "    Payoffs_adj = Payoffs[:,1] - c*(Payoffs[:, 0] - analytical)\n",
    "\n",
    "    P   = Payoffs_adj.mean()\n",
    "    SE  = Payoffs_adj.std() / np.sqrt(N)\n",
    "    return P, SE\n",
    "\n",
    "n_paths = ceil(np.log2(10**4)) ;   M = 100\n",
    "\n",
    "analytical_2_step_asian = asian_2_step_put_analytical(S, K, r, sigma, T)\n",
    "dt      = T/M\n",
    "\n",
    "drift   = (r - 0.5*sigma**2)*dt\n",
    "volatil = sigma*np.sqrt(dt)\n",
    "W       = sobol_norm(n_paths, d=M, seed=1235)\n",
    "X       = drift + volatil*W\n",
    "X       = np.append(np.zeros((2**n_paths,1)), X, axis=1)\n",
    "\n",
    "asian_CV_numerical_result, SE = asian_put_MC_CV(S, K, r, sigma, T, 2**n_paths, M, X, analytical_2_step_asian)\n",
    "\n",
    "print(f'MC = {asian_CV_numerical_result:.3f} ,  Number of samples = {2**n_paths:,}')\n",
    "print(f'SE = {SE:.3f}')\n",
    "print(f'RE = {SE/asian_CV_numerical_result*100:.3f} %')\n",
    "print(f'95% CI = [{asian_CV_numerical_result - SE*CI95:.3f} , {asian_CV_numerical_result + SE*CI95:.3f}]')\n",
    "print(f'\\nTime to calculate put Value using Monte Carlo')\n",
    "\n",
    "%timeit asian_put_MC_CV(S, K, r, sigma, T, n_paths, M, X, analytical_2_step_asian)"
   ]
  },
  {
   "cell_type": "markdown",
   "metadata": {},
   "source": [
    "# Extra: Greeks"
   ]
  },
  {
   "cell_type": "code",
   "execution_count": 106,
   "metadata": {},
   "outputs": [
    {
     "name": "stdout",
     "output_type": "stream",
     "text": [
      "Price of Asian Put : 115.14253 USD\n",
      "Standard Error     : 0.36485 USD\n",
      "\n",
      " Greeks:\n",
      "------------------------\n",
      "Delta   : -0.45235\n",
      "Vega    : 511.583\n",
      "Theta   : 6.115\n",
      "Rho     : -2647.479\n",
      "Gamma   : 0.00166\n"
     ]
    }
   ],
   "source": [
    "from importlib import reload\n",
    "import Asian_Option_Pricing as ao\n",
    "reload(ao)\n",
    "\n",
    "AP = ao.Asian_Put_Option(S=S, K=K, T=10, r=r, sigma=sigma, N=10**5)\n",
    "P0, SE = AP.get_price()\n",
    "print(f'Price of Asian Put : {P0:.5f} USD')\n",
    "print(f'Standard Error     : {SE:.5f} USD')\n",
    "print('\\n Greeks:\\n------------------------')\n",
    "print(f'Delta   : {AP.Delta :.5f}')\n",
    "print(f'Vega    : {AP.Vega  :.3f}')\n",
    "print(f'Theta   : {AP.Theta :.3f}')\n",
    "print(f'Rho     : {AP.Rho :.3f}')\n",
    "print(f'Gamma   : {AP.Gamma :.5f}')"
   ]
  }
 ],
 "metadata": {
  "interpreter": {
   "hash": "e6bce1ea51a34d90ba6fee2abe92acbdb2c915cb3d6eeec38ec312954e42946a"
  },
  "kernelspec": {
   "display_name": "Python 3.10.2 ('QF')",
   "language": "python",
   "name": "python3"
  },
  "language_info": {
   "codemirror_mode": {
    "name": "ipython",
    "version": 3
   },
   "file_extension": ".py",
   "mimetype": "text/x-python",
   "name": "python",
   "nbconvert_exporter": "python",
   "pygments_lexer": "ipython3",
   "version": "3.10.2"
  },
  "orig_nbformat": 4
 },
 "nbformat": 4,
 "nbformat_minor": 2
}
